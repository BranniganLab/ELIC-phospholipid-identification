{
 "cells": [
  {
   "cell_type": "code",
   "execution_count": 2,
   "id": "a37abbf2",
   "metadata": {},
   "outputs": [],
   "source": [
    "import numpy as np\n",
    "import pandas as pd\n",
    "import matplotlib as mpl\n",
    "import matplotlib.pyplot as plt"
   ]
  },
  {
   "cell_type": "code",
   "execution_count": 91,
   "id": "080020de",
   "metadata": {},
   "outputs": [],
   "source": [
    "data = pd.read_csv(\"bobs_unaligned.dat\", delim_whitespace=True, names=[\"frame\", ('ligand', 'X'),('ligand', 'Y'),('ligand', 'Z'),('BobB', 'X'),('BobB', 'Y'),('BobB', 'Z'),('BobC', 'X'),('BobC', 'Y'),('BobC', 'Z'),('BobD', 'X'),('BobD', 'Y'),('BobD', 'Z'),('BobE', 'X'),('BobE', 'Y'),('BobE', 'Z')])\n",
    "data = data.set_index(\"frame\")"
   ]
  },
  {
   "cell_type": "code",
   "execution_count": 92,
   "id": "e958dafb",
   "metadata": {},
   "outputs": [],
   "source": [
    "data.columns = pd.MultiIndex.from_tuples(data.columns)"
   ]
  },
  {
   "cell_type": "code",
   "execution_count": 93,
   "id": "dde18d40",
   "metadata": {},
   "outputs": [
    {
     "data": {
      "text/html": [
       "<div>\n",
       "<style scoped>\n",
       "    .dataframe tbody tr th:only-of-type {\n",
       "        vertical-align: middle;\n",
       "    }\n",
       "\n",
       "    .dataframe tbody tr th {\n",
       "        vertical-align: top;\n",
       "    }\n",
       "\n",
       "    .dataframe thead tr th {\n",
       "        text-align: left;\n",
       "    }\n",
       "\n",
       "    .dataframe thead tr:last-of-type th {\n",
       "        text-align: right;\n",
       "    }\n",
       "</style>\n",
       "<table border=\"1\" class=\"dataframe\">\n",
       "  <thead>\n",
       "    <tr>\n",
       "      <th></th>\n",
       "      <th colspan=\"3\" halign=\"left\">ligand</th>\n",
       "      <th colspan=\"3\" halign=\"left\">BobB</th>\n",
       "      <th colspan=\"3\" halign=\"left\">BobC</th>\n",
       "      <th colspan=\"3\" halign=\"left\">BobD</th>\n",
       "      <th colspan=\"3\" halign=\"left\">BobE</th>\n",
       "    </tr>\n",
       "    <tr>\n",
       "      <th></th>\n",
       "      <th>X</th>\n",
       "      <th>Y</th>\n",
       "      <th>Z</th>\n",
       "      <th>X</th>\n",
       "      <th>Y</th>\n",
       "      <th>Z</th>\n",
       "      <th>X</th>\n",
       "      <th>Y</th>\n",
       "      <th>Z</th>\n",
       "      <th>X</th>\n",
       "      <th>Y</th>\n",
       "      <th>Z</th>\n",
       "      <th>X</th>\n",
       "      <th>Y</th>\n",
       "      <th>Z</th>\n",
       "    </tr>\n",
       "    <tr>\n",
       "      <th>frame</th>\n",
       "      <th></th>\n",
       "      <th></th>\n",
       "      <th></th>\n",
       "      <th></th>\n",
       "      <th></th>\n",
       "      <th></th>\n",
       "      <th></th>\n",
       "      <th></th>\n",
       "      <th></th>\n",
       "      <th></th>\n",
       "      <th></th>\n",
       "      <th></th>\n",
       "      <th></th>\n",
       "      <th></th>\n",
       "      <th></th>\n",
       "    </tr>\n",
       "  </thead>\n",
       "  <tbody>\n",
       "    <tr>\n",
       "      <th>0</th>\n",
       "      <td>6.324566</td>\n",
       "      <td>-0.488865</td>\n",
       "      <td>-1.492000</td>\n",
       "      <td>4.884050</td>\n",
       "      <td>-4.266519</td>\n",
       "      <td>2.674396</td>\n",
       "      <td>-6.968366</td>\n",
       "      <td>0.728610</td>\n",
       "      <td>2.453927</td>\n",
       "      <td>-0.808555</td>\n",
       "      <td>7.841801</td>\n",
       "      <td>1.086267</td>\n",
       "      <td>-6.160542</td>\n",
       "      <td>-6.103529</td>\n",
       "      <td>1.598747</td>\n",
       "    </tr>\n",
       "    <tr>\n",
       "      <th>1</th>\n",
       "      <td>5.536108</td>\n",
       "      <td>-0.330037</td>\n",
       "      <td>-3.941438</td>\n",
       "      <td>6.297568</td>\n",
       "      <td>-2.758889</td>\n",
       "      <td>1.047320</td>\n",
       "      <td>-7.643305</td>\n",
       "      <td>-1.393815</td>\n",
       "      <td>1.912458</td>\n",
       "      <td>-1.569766</td>\n",
       "      <td>6.755760</td>\n",
       "      <td>2.609341</td>\n",
       "      <td>-5.026007</td>\n",
       "      <td>-6.047999</td>\n",
       "      <td>0.963384</td>\n",
       "    </tr>\n",
       "    <tr>\n",
       "      <th>2</th>\n",
       "      <td>5.932954</td>\n",
       "      <td>-0.159423</td>\n",
       "      <td>-3.457223</td>\n",
       "      <td>6.224771</td>\n",
       "      <td>-2.842758</td>\n",
       "      <td>1.218558</td>\n",
       "      <td>-7.966286</td>\n",
       "      <td>-1.302049</td>\n",
       "      <td>1.866965</td>\n",
       "      <td>-1.049374</td>\n",
       "      <td>6.722087</td>\n",
       "      <td>2.063928</td>\n",
       "      <td>-5.213804</td>\n",
       "      <td>-5.921724</td>\n",
       "      <td>0.952431</td>\n",
       "    </tr>\n",
       "    <tr>\n",
       "      <th>3</th>\n",
       "      <td>6.076279</td>\n",
       "      <td>-0.597257</td>\n",
       "      <td>-3.047765</td>\n",
       "      <td>6.082657</td>\n",
       "      <td>-3.433213</td>\n",
       "      <td>1.215837</td>\n",
       "      <td>-8.366657</td>\n",
       "      <td>-1.761230</td>\n",
       "      <td>1.952982</td>\n",
       "      <td>-1.074695</td>\n",
       "      <td>6.712790</td>\n",
       "      <td>2.396416</td>\n",
       "      <td>-5.229671</td>\n",
       "      <td>-5.994931</td>\n",
       "      <td>0.670101</td>\n",
       "    </tr>\n",
       "    <tr>\n",
       "      <th>4</th>\n",
       "      <td>5.648093</td>\n",
       "      <td>-0.248271</td>\n",
       "      <td>-3.807574</td>\n",
       "      <td>6.250385</td>\n",
       "      <td>-3.133532</td>\n",
       "      <td>1.429246</td>\n",
       "      <td>-7.752616</td>\n",
       "      <td>-0.777286</td>\n",
       "      <td>2.090005</td>\n",
       "      <td>-1.588639</td>\n",
       "      <td>6.821894</td>\n",
       "      <td>2.016826</td>\n",
       "      <td>-4.898417</td>\n",
       "      <td>-6.178577</td>\n",
       "      <td>0.700298</td>\n",
       "    </tr>\n",
       "    <tr>\n",
       "      <th>...</th>\n",
       "      <td>...</td>\n",
       "      <td>...</td>\n",
       "      <td>...</td>\n",
       "      <td>...</td>\n",
       "      <td>...</td>\n",
       "      <td>...</td>\n",
       "      <td>...</td>\n",
       "      <td>...</td>\n",
       "      <td>...</td>\n",
       "      <td>...</td>\n",
       "      <td>...</td>\n",
       "      <td>...</td>\n",
       "      <td>...</td>\n",
       "      <td>...</td>\n",
       "      <td>...</td>\n",
       "    </tr>\n",
       "    <tr>\n",
       "      <th>996</th>\n",
       "      <td>5.922567</td>\n",
       "      <td>0.685317</td>\n",
       "      <td>-1.425229</td>\n",
       "      <td>6.535729</td>\n",
       "      <td>-2.994867</td>\n",
       "      <td>2.411759</td>\n",
       "      <td>-8.633287</td>\n",
       "      <td>-0.048416</td>\n",
       "      <td>1.662386</td>\n",
       "      <td>-2.507132</td>\n",
       "      <td>7.768914</td>\n",
       "      <td>1.822569</td>\n",
       "      <td>-5.561759</td>\n",
       "      <td>-4.872534</td>\n",
       "      <td>0.844037</td>\n",
       "    </tr>\n",
       "    <tr>\n",
       "      <th>997</th>\n",
       "      <td>5.719123</td>\n",
       "      <td>0.791532</td>\n",
       "      <td>-1.386145</td>\n",
       "      <td>6.789985</td>\n",
       "      <td>-3.058897</td>\n",
       "      <td>2.411397</td>\n",
       "      <td>-8.638173</td>\n",
       "      <td>0.167268</td>\n",
       "      <td>1.648622</td>\n",
       "      <td>-2.270643</td>\n",
       "      <td>7.870783</td>\n",
       "      <td>2.228417</td>\n",
       "      <td>-5.480759</td>\n",
       "      <td>-4.962596</td>\n",
       "      <td>1.039599</td>\n",
       "    </tr>\n",
       "    <tr>\n",
       "      <th>998</th>\n",
       "      <td>6.233040</td>\n",
       "      <td>0.474086</td>\n",
       "      <td>-1.246298</td>\n",
       "      <td>6.697528</td>\n",
       "      <td>-3.095750</td>\n",
       "      <td>2.508168</td>\n",
       "      <td>-8.617870</td>\n",
       "      <td>-0.122148</td>\n",
       "      <td>1.600229</td>\n",
       "      <td>-2.666269</td>\n",
       "      <td>8.098731</td>\n",
       "      <td>1.967384</td>\n",
       "      <td>-5.422770</td>\n",
       "      <td>-5.284210</td>\n",
       "      <td>0.971336</td>\n",
       "    </tr>\n",
       "    <tr>\n",
       "      <th>999</th>\n",
       "      <td>5.854961</td>\n",
       "      <td>0.231027</td>\n",
       "      <td>-2.066531</td>\n",
       "      <td>6.719086</td>\n",
       "      <td>-3.024116</td>\n",
       "      <td>2.365862</td>\n",
       "      <td>-8.735204</td>\n",
       "      <td>-0.055553</td>\n",
       "      <td>1.130628</td>\n",
       "      <td>-2.559559</td>\n",
       "      <td>8.298836</td>\n",
       "      <td>2.112253</td>\n",
       "      <td>-5.501970</td>\n",
       "      <td>-4.988286</td>\n",
       "      <td>1.126684</td>\n",
       "    </tr>\n",
       "    <tr>\n",
       "      <th>1000</th>\n",
       "      <td>5.685288</td>\n",
       "      <td>0.357980</td>\n",
       "      <td>-1.552736</td>\n",
       "      <td>6.323489</td>\n",
       "      <td>-3.290319</td>\n",
       "      <td>2.639154</td>\n",
       "      <td>-8.447340</td>\n",
       "      <td>0.065006</td>\n",
       "      <td>1.236674</td>\n",
       "      <td>-2.821808</td>\n",
       "      <td>7.990507</td>\n",
       "      <td>1.728087</td>\n",
       "      <td>-5.467875</td>\n",
       "      <td>-4.866365</td>\n",
       "      <td>1.260830</td>\n",
       "    </tr>\n",
       "  </tbody>\n",
       "</table>\n",
       "<p>1001 rows × 15 columns</p>\n",
       "</div>"
      ],
      "text/plain": [
       "         ligand                          BobB                          BobC  \\\n",
       "              X         Y         Z         X         Y         Z         X   \n",
       "frame                                                                         \n",
       "0      6.324566 -0.488865 -1.492000  4.884050 -4.266519  2.674396 -6.968366   \n",
       "1      5.536108 -0.330037 -3.941438  6.297568 -2.758889  1.047320 -7.643305   \n",
       "2      5.932954 -0.159423 -3.457223  6.224771 -2.842758  1.218558 -7.966286   \n",
       "3      6.076279 -0.597257 -3.047765  6.082657 -3.433213  1.215837 -8.366657   \n",
       "4      5.648093 -0.248271 -3.807574  6.250385 -3.133532  1.429246 -7.752616   \n",
       "...         ...       ...       ...       ...       ...       ...       ...   \n",
       "996    5.922567  0.685317 -1.425229  6.535729 -2.994867  2.411759 -8.633287   \n",
       "997    5.719123  0.791532 -1.386145  6.789985 -3.058897  2.411397 -8.638173   \n",
       "998    6.233040  0.474086 -1.246298  6.697528 -3.095750  2.508168 -8.617870   \n",
       "999    5.854961  0.231027 -2.066531  6.719086 -3.024116  2.365862 -8.735204   \n",
       "1000   5.685288  0.357980 -1.552736  6.323489 -3.290319  2.639154 -8.447340   \n",
       "\n",
       "                               BobD                          BobE            \\\n",
       "              Y         Z         X         Y         Z         X         Y   \n",
       "frame                                                                         \n",
       "0      0.728610  2.453927 -0.808555  7.841801  1.086267 -6.160542 -6.103529   \n",
       "1     -1.393815  1.912458 -1.569766  6.755760  2.609341 -5.026007 -6.047999   \n",
       "2     -1.302049  1.866965 -1.049374  6.722087  2.063928 -5.213804 -5.921724   \n",
       "3     -1.761230  1.952982 -1.074695  6.712790  2.396416 -5.229671 -5.994931   \n",
       "4     -0.777286  2.090005 -1.588639  6.821894  2.016826 -4.898417 -6.178577   \n",
       "...         ...       ...       ...       ...       ...       ...       ...   \n",
       "996   -0.048416  1.662386 -2.507132  7.768914  1.822569 -5.561759 -4.872534   \n",
       "997    0.167268  1.648622 -2.270643  7.870783  2.228417 -5.480759 -4.962596   \n",
       "998   -0.122148  1.600229 -2.666269  8.098731  1.967384 -5.422770 -5.284210   \n",
       "999   -0.055553  1.130628 -2.559559  8.298836  2.112253 -5.501970 -4.988286   \n",
       "1000   0.065006  1.236674 -2.821808  7.990507  1.728087 -5.467875 -4.866365   \n",
       "\n",
       "                 \n",
       "              Z  \n",
       "frame            \n",
       "0      1.598747  \n",
       "1      0.963384  \n",
       "2      0.952431  \n",
       "3      0.670101  \n",
       "4      0.700298  \n",
       "...         ...  \n",
       "996    0.844037  \n",
       "997    1.039599  \n",
       "998    0.971336  \n",
       "999    1.126684  \n",
       "1000   1.260830  \n",
       "\n",
       "[1001 rows x 15 columns]"
      ]
     },
     "execution_count": 93,
     "metadata": {},
     "output_type": "execute_result"
    }
   ],
   "source": [
    "data"
   ]
  },
  {
   "cell_type": "code",
   "execution_count": 94,
   "id": "369b0d4d",
   "metadata": {},
   "outputs": [
    {
     "name": "stdout",
     "output_type": "stream",
     "text": [
      "[[0.0,6.95240065010754],[-1.50949677212875,1.18434552613362]]\n"
     ]
    },
    {
     "data": {
      "image/png": "[encoded data removed]",
      "text/plain": [
       "<Figure size 432x288 with 1 Axes>"
      ]
     },
     "metadata": {
      "needs_background": "light"
     },
     "output_type": "display_data"
    }
   ],
   "source": [
    "#fig, ax = plt.subplots()\n",
    "plotData = data.ligand\n",
    "X = plotData.X\n",
    "Y = plotData.Y\n",
    "plt.scatter(X, Y)\n",
    "plt.scatter(0, 0, color=\"orange\")\n",
    "plt.title(f\"Entire Lipid COM Position (XY)\")\n",
    "plt.ylabel(\"count\")\n",
    "plt.xlabel(\"A\")\n",
    "plt.axis('equal')\n",
    "upperX = np.max([0, np.max(X)])\n",
    "lowerX = np.min([np.min(X), 0])\n",
    "upperY = np.max([0, np.max(Y)])\n",
    "lowerY = np.min([np.min(Y), 0])\n",
    "print(f\"[[{lowerX},{upperX}],[{lowerY},{upperY}]]\")\n",
    "plt.xlim([lowerX-1, upperX+1])\n",
    "plt.ylim([lowerY+1, upperY-1])\n",
    "\n",
    "plt.show()\n",
    "#plt.savefig(\"XYPosition.png\", dpi=600)"
   ]
  },
  {
   "cell_type": "code",
   "execution_count": 95,
   "id": "a6beae0f",
   "metadata": {},
   "outputs": [
    {
     "name": "stdout",
     "output_type": "stream",
     "text": [
      "[[0.0,7.81695043534587],[-4.73507302853296,0.0]]\n"
     ]
    },
    {
     "data": {
      "image/png": "[encoded data removed]",
      "text/plain": [
       "<Figure size 432x288 with 1 Axes>"
      ]
     },
     "metadata": {
      "needs_background": "light"
     },
     "output_type": "display_data"
    }
   ],
   "source": [
    "#fig, ax = plt.subplots()\n",
    "plotData = data.BobB\n",
    "X = plotData.X\n",
    "Y = plotData.Y\n",
    "plt.scatter(X, Y)\n",
    "plt.scatter(0, 0, color=\"orange\")\n",
    "plt.title(f\"Entire Lipid COM Position (XY)\")\n",
    "plt.ylabel(\"count\")\n",
    "plt.xlabel(\"A\")\n",
    "plt.axis('equal')\n",
    "upperX = np.max([0, np.max(X)])\n",
    "lowerX = np.min([np.min(X), 0])\n",
    "upperY = np.max([0, np.max(Y)])\n",
    "lowerY = np.min([np.min(Y), 0])\n",
    "print(f\"[[{lowerX},{upperX}],[{lowerY},{upperY}]]\")\n",
    "plt.xlim([lowerX-1, upperX+1])\n",
    "plt.ylim([lowerY+1, upperY-1])\n",
    "\n",
    "plt.show()"
   ]
  },
  {
   "cell_type": "code",
   "execution_count": 96,
   "id": "ee7188c1",
   "metadata": {},
   "outputs": [
    {
     "name": "stdout",
     "output_type": "stream",
     "text": [
      "[[-9.53680856050492,0.0],[-2.33705406526601,1.74516964118515]]\n"
     ]
    },
    {
     "data": {
      "image/png": "[encoded data removed]",
      "text/plain": [
       "<Figure size 432x288 with 1 Axes>"
      ]
     },
     "metadata": {
      "needs_background": "light"
     },
     "output_type": "display_data"
    }
   ],
   "source": [
    "#fig, ax = plt.subplots()\n",
    "plotData = data.BobC\n",
    "X = plotData.X\n",
    "Y = plotData.Y\n",
    "plt.scatter(X, Y)\n",
    "plt.scatter(0, 0, color=\"orange\")\n",
    "plt.title(f\"Entire Lipid COM Position (XY)\")\n",
    "plt.ylabel(\"count\")\n",
    "plt.xlabel(\"A\")\n",
    "plt.axis('equal')\n",
    "upperX = np.max([0, np.max(X)])\n",
    "lowerX = np.min([np.min(X), 0])\n",
    "upperY = np.max([0, np.max(Y)])\n",
    "lowerY = np.min([np.min(Y), 0])\n",
    "print(f\"[[{lowerX},{upperX}],[{lowerY},{upperY}]]\")\n",
    "plt.xlim([lowerX-1, upperX+1])\n",
    "plt.ylim([lowerY+1, upperY-1])\n",
    "\n",
    "plt.show()\n",
    "#plt.savefig(\"XYPosition.png\", dpi=600)"
   ]
  },
  {
   "cell_type": "code",
   "execution_count": 97,
   "id": "1ee5de70",
   "metadata": {},
   "outputs": [
    {
     "name": "stdout",
     "output_type": "stream",
     "text": [
      "[[-3.70768702904824,0.0],[0.0,9.13224603157073]]\n"
     ]
    },
    {
     "data": {
      "image/png": "[encoded data removed]",
      "text/plain": [
       "<Figure size 432x288 with 1 Axes>"
      ]
     },
     "metadata": {
      "needs_background": "light"
     },
     "output_type": "display_data"
    }
   ],
   "source": [
    "fig, ax = plt.subplots()\n",
    "\n",
    "plotData = data.BobD\n",
    "X = plotData.X\n",
    "Y = plotData.Y\n",
    "plt.scatter(X, Y)\n",
    "plt.scatter(0, 0, color=\"orange\")\n",
    "plt.title(f\"Entire Lipid COM Position (XY)\")\n",
    "plt.ylabel(\"count\")\n",
    "plt.xlabel(\"A\")\n",
    "plt.axis('equal')\n",
    "upperX = np.max([0, np.max(X)])\n",
    "lowerX = np.min([np.min(X), 0])\n",
    "upperY = np.max([0, np.max(Y)])\n",
    "lowerY = np.min([np.min(Y), 0])\n",
    "print(f\"[[{lowerX},{upperX}],[{lowerY},{upperY}]]\")\n",
    "plt.xlim([lowerX, upperX])\n",
    "plt.ylim([lowerY-1, upperY+1])\n",
    "\n",
    "plt.show()\n",
    "#plt.savefig(\"XYPosition.png\", dpi=600)"
   ]
  },
  {
   "cell_type": "code",
   "execution_count": 105,
   "id": "7c217244",
   "metadata": {},
   "outputs": [
    {
     "name": "stdout",
     "output_type": "stream",
     "text": [
      "[[-6.9806721478105,0.0],[-7.16341985286503,0.0]]\n"
     ]
    },
    {
     "data": {
      "image/png": "[encoded data removed]",
      "text/plain": [
       "<Figure size 432x288 with 1 Axes>"
      ]
     },
     "metadata": {
      "needs_background": "light"
     },
     "output_type": "display_data"
    }
   ],
   "source": [
    "#fig, ax = plt.subplots()\n",
    "plotData = data.BobE\n",
    "X = plotData.X\n",
    "Y = plotData.Y\n",
    "plt.scatter(X, Y)\n",
    "plt.scatter(0, 0, color=\"orange\")\n",
    "plt.title(f\"Entire Lipid COM Position (XY)\")\n",
    "plt.ylabel(\"count\")\n",
    "plt.xlabel(\"A\")\n",
    "plt.axis('equal')\n",
    "upperX = np.max([0, np.max(X)])\n",
    "lowerX = np.min([np.min(X), 0])\n",
    "upperY = np.max([0, np.max(Y)])\n",
    "lowerY = np.min([np.min(Y), 0])\n",
    "print(f\"[[{lowerX},{upperX}],[{lowerY},{upperY}]]\")\n",
    "plt.xlim([lowerX-3, upperX+3])\n",
    "plt.ylim([lowerY-3, upperY+3])\n",
    "\n",
    "plt.show()\n",
    "#plt.savefig(\"XYPosition.png\", dpi=600)"
   ]
  },
  {
   "cell_type": "code",
   "execution_count": 107,
   "id": "f001207b",
   "metadata": {},
   "outputs": [
    {
     "data": {
      "text/plain": [
       "<matplotlib.legend.Legend at 0x7f222af58ee0>"
      ]
     },
     "execution_count": 107,
     "metadata": {},
     "output_type": "execute_result"
    },
    {
     "data": {
      "image/png": "[encoded data removed]",
      "text/plain": [
       "<Figure size 432x288 with 1 Axes>"
      ]
     },
     "metadata": {
      "needs_background": "light"
     },
     "output_type": "display_data"
    }
   ],
   "source": [
    "fig, ax = plt.subplots()\n",
    "plotData = data.BobB\n",
    "X = plotData.X\n",
    "Y = plotData.Y\n",
    "scatterB = ax.scatter(X, Y, label=\"BobB\")\n",
    "plotData = data.BobC\n",
    "X = plotData.X\n",
    "Y = plotData.Y\n",
    "scatterC = ax.scatter(X, Y, label=\"BobC\")\n",
    "plotData = data.BobD\n",
    "X = plotData.X\n",
    "Y = plotData.Y\n",
    "scatterD = ax.scatter(X, Y, label=\"BobD\")\n",
    "plotData = data.BobE\n",
    "X = plotData.X\n",
    "Y = plotData.Y\n",
    "scatterE = ax.scatter(X, Y, label=\"BobE\")\n",
    "plotData = data.ligand\n",
    "X = plotData.X\n",
    "Y = plotData.Y\n",
    "scatterLig = ax.scatter(X, Y, label=\"ligand\")\n",
    "plt.legend()\n"
   ]
  },
  {
   "cell_type": "code",
   "execution_count": 133,
   "id": "83e118eb",
   "metadata": {},
   "outputs": [
    {
     "data": {
      "image/png": "[encoded data removed]",
      "text/plain": [
       "<Figure size 432x288 with 1 Axes>"
      ]
     },
     "metadata": {
      "needs_background": "light"
     },
     "output_type": "display_data"
    }
   ],
   "source": [
    "fig, ax = plt.subplots()\n",
    "data.cylLigand.hist(label=\"ligand\")\n",
    "data.cyl20.hist()\n",
    "data.cyl25.hist()\n",
    "data.cyl30.hist()\n",
    "data.cyl46.hist()\n",
    "data.cyl6.hist()\n",
    "plt.legend()\n",
    "plt.title(\"Entire Lipid COM Distance from Ligand Position at T=0\")\n",
    "plt.ylabel(\"count\")\n",
    "plt.xlabel(\"A\")\n",
    "plt.grid(False)\n",
    "plt.savefig(\"Distance_from_t0.png\", dpi=600)"
   ]
  },
  {
   "cell_type": "code",
   "execution_count": 134,
   "id": "2575c1ce",
   "metadata": {},
   "outputs": [
    {
     "data": {
      "text/plain": [
       "1.18869272096874"
      ]
     },
     "execution_count": 134,
     "metadata": {},
     "output_type": "execute_result"
    }
   ],
   "source": [
    "radius = np.percentile(data.cylLigand, 95)\n",
    "radius"
   ]
  },
  {
   "cell_type": "code",
   "execution_count": 135,
   "id": "1569ac79",
   "metadata": {},
   "outputs": [
    {
     "data": {
      "image/png": "[encoded data removed]",
      "text/plain": [
       "<Figure size 432x288 with 1 Axes>"
      ]
     },
     "metadata": {
      "needs_background": "light"
     },
     "output_type": "display_data"
    }
   ],
   "source": [
    "data.absZ.hist()\n",
    "plt.title(\"Entire Ligand COM Cartesian Position (Z)\")\n",
    "plt.ylabel(\"count\")\n",
    "plt.xlabel(\"A\")\n",
    "plt.savefig(\"ZPosition.png\", dpi=600)"
   ]
  },
  {
   "cell_type": "code",
   "execution_count": 136,
   "id": "e8863292",
   "metadata": {},
   "outputs": [
    {
     "data": {
      "image/png": "[encoded data removed]",
      "text/plain": [
       "<Figure size 432x288 with 1 Axes>"
      ]
     },
     "metadata": {
      "needs_background": "light"
     },
     "output_type": "display_data"
    }
   ],
   "source": [
    "data.relZ.hist()\n",
    "plt.title(\"Entire Ligand COM Position (Z)\\nRelative to Binding Site\")\n",
    "plt.ylabel(\"count\")\n",
    "plt.xlabel(\"A\")\n",
    "plt.savefig(\"relZPosition.png\", dpi=600)"
   ]
  },
  {
   "cell_type": "code",
   "execution_count": 137,
   "id": "4bea8f04",
   "metadata": {},
   "outputs": [
    {
     "data": {
      "image/png": "[encoded data removed]",
      "text/plain": [
       "<Figure size 432x288 with 1 Axes>"
      ]
     },
     "metadata": {
      "needs_background": "light"
     },
     "output_type": "display_data"
    }
   ],
   "source": [
    "data.relY.hist()\n",
    "plt.title(\"Entire Ligand COM Position (Y)\")\n",
    "plt.ylabel(\"count\")\n",
    "plt.xlabel(\"A\")\n",
    "plt.savefig(\"YPosition.png\", dpi=600)"
   ]
  },
  {
   "cell_type": "code",
   "execution_count": 149,
   "id": "35f367da",
   "metadata": {},
   "outputs": [
    {
     "data": {
      "image/png": "[encoded data removed]",
      "text/plain": [
       "<Figure size 432x288 with 1 Axes>"
      ]
     },
     "metadata": {
      "needs_background": "light"
     },
     "output_type": "display_data"
    }
   ],
   "source": [
    "fig, ax = plt.subplots()\n",
    "center = (data.relX[0], data.relY[0])\n",
    "#center = (5.771076257226381, -0.38855978495432647)\n",
    "area = plt.Circle(center, radius, color='orange')\n",
    "\n",
    "#ax.add_patch(scatter)\n",
    "ax.add_patch(area)\n",
    "scatter = plt.scatter(data.relX, data.relY)\n",
    "plt.scatter(center[0], center[1], color='r', label=\"t=0\")\n",
    "plt.title(f\"Entire Lipid COM Position (XY)\\nRadius={np.round(radius,4)}Å\")\n",
    "plt.ylabel(\"count\")\n",
    "plt.xlabel(\"A\")\n",
    "plt.axis('equal')\n",
    "plt.legend()\n",
    "\n",
    "#plt.show()\n",
    "plt.savefig(\"XYPosition.png\", dpi=600)"
   ]
  },
  {
   "cell_type": "code",
   "execution_count": 161,
   "id": "467ff1e8",
   "metadata": {},
   "outputs": [],
   "source": [
    "def getDistance(center, point):\n",
    "    return np.sqrt(np.sum(np.subtract(point, center)**2))"
   ]
  },
  {
   "cell_type": "code",
   "execution_count": 162,
   "id": "11afe385",
   "metadata": {},
   "outputs": [
    {
     "data": {
      "text/plain": [
       "5.784142103476177"
      ]
     },
     "execution_count": 162,
     "metadata": {},
     "output_type": "execute_result"
    }
   ],
   "source": [
    "distXY = data.relX\n",
    "for p in zip(data.relX, data.relY)\n",
    "meanX = np.mean(data.relX)\n",
    "meanY = np.mean(data.relY)\n",
    "center = (meanX, meanY)\n",
    "point = (0, 0)\n",
    "getDistance(point, center)"
   ]
  },
  {
   "cell_type": "code",
   "execution_count": 150,
   "id": "b27d6d9c",
   "metadata": {},
   "outputs": [
    {
     "data": {
      "image/png": "[encoded data removed]",
      "text/plain": [
       "<Figure size 432x288 with 1 Axes>"
      ]
     },
     "metadata": {
      "needs_background": "light"
     },
     "output_type": "display_data"
    }
   ],
   "source": [
    "fig, ax = plt.subplots()\n",
    "center = (data.relX[0], data.relY[0])\n",
    "meanX = np.mean(data.relX)\n",
    "meanY = np.mean(data.relY)\n",
    "center = (meanX, meanY)\n",
    "area = plt.Circle(center, radius, color='orange')\n",
    "\n",
    "#ax.add_patch(scatter)\n",
    "ax.add_patch(area)\n",
    "scatter = plt.scatter(data.relX, data.relY)\n",
    "plt.scatter(center[0], center[1], color='r', label=\"Geometric Center\")\n",
    "plt.title(f\"Entire Lipid COM Position (XY)\\nRadius={np.round(radius,4)}Å\")\n",
    "plt.ylabel(\"count\")\n",
    "plt.xlabel(\"A\")\n",
    "plt.axis('equal')\n",
    "plt.legend()\n",
    "\n",
    "#plt.show()\n",
    "plt.savefig(\"XYPosition.png\", dpi=600)"
   ]
  },
  {
   "cell_type": "code",
   "execution_count": 146,
   "id": "7692b41d",
   "metadata": {},
   "outputs": [
    {
     "name": "stdout",
     "output_type": "stream",
     "text": [
      "(5.771076257226381, -0.38855978495432647)\n"
     ]
    }
   ],
   "source": [
    "\n",
    "print(f\"({meanX}, {meanY})\")"
   ]
  }
 ],
 "metadata": {
  "kernelspec": {
   "display_name": "Python 3 (ipykernel)",
   "language": "python",
   "name": "python3"
  },
  "language_info": {
   "codemirror_mode": {
    "name": "ipython",
    "version": 3
   },
   "file_extension": ".py",
   "mimetype": "text/x-python",
   "name": "python",
   "nbconvert_exporter": "python",
   "pygments_lexer": "ipython3",
   "version": "3.9.6"
  }
 },
 "nbformat": 4,
 "nbformat_minor": 5
}
