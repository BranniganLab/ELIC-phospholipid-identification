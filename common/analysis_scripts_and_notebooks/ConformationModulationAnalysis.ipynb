{
 "cells": [
  {
   "cell_type": "code",
   "execution_count": null,
   "id": "f9b46e3a",
   "metadata": {},
   "outputs": [],
   "source": [
    "import numpy as np\n",
    "from scipy.interpolate import griddata\n",
    "import matplotlib.pyplot as plt"
   ]
  },
  {
   "cell_type": "code",
   "execution_count": null,
   "id": "3d605ffe",
   "metadata": {},
   "outputs": [],
   "source": [
    "DG_PG_5  = -7\n",
    "DG_PG_WT = -11\n",
    "DG_PE_5  = -2\n",
    "DG_PE_WT = -9"
   ]
  },
  {
   "cell_type": "code",
   "execution_count": null,
   "id": "8eaf5d7c",
   "metadata": {},
   "outputs": [],
   "source": [
    "N = 1000\n",
    "xmin = 1e-12\n",
    "xmax = .9\n",
    "\n",
    "gr_x = np.linspace(xmin, xmax, N)\n",
    "gr_y = np.linspace(xmin, xmax, N)\n",
    "grid_x, grid_y = np.meshgrid(gr_x, gr_y)\n",
    "\n",
    "PG = grid_x\n",
    "PE = grid_y\n",
    "PC =  np.full((N, N), 1.0) - (PG + PE)\n",
    "\n",
    "RT = 0.6\n",
    "KCG5  = np.exp(-DG_PG_5 / RT)\n",
    "KCGWT = np.exp(-DG_PG_WT / RT)\n",
    "KCE5  = np.exp(-DG_PE_5 / RT)\n",
    "KCEWT = np.exp(-DG_PE_WT / RT)\n",
    "\n",
    "data = (PC + KCG5 * PG + KCE5 * PE) / (PC + KCGWT * PG + KCEWT * PE)\n",
    "data = np.log(data)"
   ]
  },
  {
   "cell_type": "code",
   "execution_count": null,
   "id": "070267b7",
   "metadata": {},
   "outputs": [],
   "source": [
    "%matplotlib notebook\n",
    "plt.contourf(np.log10(grid_x), np.log10(grid_y), data, levels=100)\n",
    "# plt.contour(np.log10(grid_x), np.log10(grid_y), data, levels=40, color='black')\n",
    "plt.xlabel(\"PG content\")\n",
    "plt.ylabel(\"PE content\")\n",
    "plt.title(\"Relative log-probability of ELIC5 conformation\")\n",
    "# plt.xscale(\"log\")\n",
    "# plt.yscale(\"log\")\n",
    "plt.colorbar()"
   ]
  },
  {
   "cell_type": "code",
   "execution_count": null,
   "id": "d2dc5f3f",
   "metadata": {},
   "outputs": [],
   "source": [
    "%matplotlib notebook\n",
    "\n",
    "fig, ax = plt.subplots(subplot_kw={\"projection\": \"3d\"})\n",
    "ax.plot_surface(np.log10(grid_x), np.log10(grid_y), data)\n"
   ]
  },
  {
   "cell_type": "code",
   "execution_count": null,
   "id": "21470987",
   "metadata": {},
   "outputs": [],
   "source": []
  },
  {
   "cell_type": "code",
   "execution_count": null,
   "id": "cfb76b78-fe16-4f66-a0ca-5c4cf9d45a0f",
   "metadata": {},
   "outputs": [],
   "source": []
  },
  {
   "cell_type": "markdown",
   "id": "af32d690-ae7b-441e-8db8-9fa24041020d",
   "metadata": {
    "tags": []
   },
   "source": [
    "# Ternary PG Titration"
   ]
  },
  {
   "cell_type": "code",
   "execution_count": null,
   "id": "71579da7-1709-4a4c-9d3e-222a48ffbcf8",
   "metadata": {},
   "outputs": [],
   "source": [
    "import numpy as np\n",
    "import matplotlib as mpl\n",
    "import matplotlib.pyplot as plt\n",
    "import pandas as pd\n",
    "import scipy.constants as const"
   ]
  },
  {
   "cell_type": "code",
   "execution_count": null,
   "id": "2305db39-ee14-4efb-9fe3-4ff6b4748d9b",
   "metadata": {},
   "outputs": [],
   "source": [
    "dGs = pd.read_csv('freeEnergies.csv', comment=\"#\", header=[0], index_col=[0,1])\n",
    "dGs"
   ]
  },
  {
   "cell_type": "code",
   "execution_count": null,
   "id": "eb189558-1f5c-4bcc-b74e-c242821145ef",
   "metadata": {},
   "outputs": [],
   "source": [
    "nVals = 48\n",
    "temp=300\n",
    "#RT = temp*const.R/(1000*const.calorie)\n",
    "RT = 0.59\n",
    "terTitr = pd.DataFrame()\n",
    "terTitr['NPG'] = np.ones(nVals)\n",
    "tmp = list([0.75])\n",
    "tmp.extend(1.5**np.arange(nVals-1))\n",
    "terTitr['NPC'] = tmp\n",
    "terTitr['NPE'] = np.divide(terTitr.NPC, 2)\n",
    "structures = np.array(['WT', 'ELIC5'])\n",
    "headgroups = np.array(['PG', 'PC', 'PE'])"
   ]
  },
  {
   "cell_type": "code",
   "execution_count": null,
   "id": "ef5cddba-56ec-4000-aeed-7a3d63e98d63",
   "metadata": {},
   "outputs": [],
   "source": [
    "terTitr['logPG'] = np.log10(terTitr.NPG/np.sum(terTitr.iloc[:,0:3], axis=1), )\n",
    "\n",
    "for struct in structures:\n",
    "    for alpha in headgroups:\n",
    "        for beta in headgroups:\n",
    "            if beta != alpha:\n",
    "                div = np.divide(terTitr[f'N{alpha}'], terTitr[f'N{beta}'])\n",
    "                exp =  np.exp(-dGs.loc[(f'PO{alpha}',beta), struct]/RT)\n",
    "                terTitr[struct,f'p{alpha}_p{beta}'] = div*exp"
   ]
  },
  {
   "cell_type": "code",
   "execution_count": null,
   "id": "87e56a7d-f45c-4731-b702-e6b888412e2c",
   "metadata": {},
   "outputs": [],
   "source": [
    "for struct in structures:\n",
    "    for alpha in headgroups:\n",
    "        for beta in headgroups:\n",
    "            if beta != alpha:\n",
    "                gamma = headgroups[np.logical_and(headgroups!=beta, headgroups!=alpha)]\n",
    "                gamma = gamma[0]\n",
    "                denom = terTitr[struct, f'p{alpha}_p{beta}']\n",
    "                numer = terTitr[struct, f'p{beta}_p{gamma}']\n",
    "                print(f'{struct}{alpha}')\n",
    "                terTitr[struct, f'fp{alpha[-1]}'] = 1/(1+1/denom+numer/denom)"
   ]
  },
  {
   "cell_type": "code",
   "execution_count": null,
   "id": "25b532f2-bbbb-40a8-b91e-1d00f50ab2e0",
   "metadata": {},
   "outputs": [],
   "source": [
    "terTitr['WT', 'fpC']"
   ]
  },
  {
   "cell_type": "code",
   "execution_count": null,
   "id": "9b3d7aed-5899-4a39-9e7e-0f27a598f294",
   "metadata": {},
   "outputs": [],
   "source": []
  }
 ],
 "metadata": {
  "kernelspec": {
   "display_name": "Python 3 (ipykernel)",
   "language": "python",
   "name": "python3"
  },
  "language_info": {
   "codemirror_mode": {
    "name": "ipython",
    "version": 3
   },
   "file_extension": ".py",
   "mimetype": "text/x-python",
   "name": "python",
   "nbconvert_exporter": "python",
   "pygments_lexer": "ipython3",
   "version": "3.9.7"
  }
 },
 "nbformat": 4,
 "nbformat_minor": 5
}
