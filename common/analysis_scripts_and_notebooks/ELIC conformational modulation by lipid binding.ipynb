{
 "cells": [
  {
   "cell_type": "code",
   "execution_count": null,
   "id": "f9b46e3a",
   "metadata": {},
   "outputs": [],
   "source": [
    "%matplotlib widget\n",
    "import numpy as np\n",
    "from scipy.interpolate import griddata\n",
    "import matplotlib.pyplot as plt\n",
    "import matplotlib as mpl\n",
    "from scipy import constants\n",
    "import pandas as pd"
   ]
  },
  {
   "cell_type": "code",
   "execution_count": null,
   "id": "781febc8-1923-42a9-b7eb-b710c2082fdb",
   "metadata": {
    "tags": []
   },
   "outputs": [],
   "source": [
    "def mktable(PCtoPG, PGtoPE, PEtoPC):\n",
    "    data = pd.DataFrame(0, index=['PC', 'PG', 'PE'], columns=['PC', 'PG', 'PE'])\n",
    "    data.loc['PC','PG'] = PCtoPG\n",
    "    data.loc['PE','PC'] = PEtoPC\n",
    "    data.loc['PG','PE'] = PGtoPE\n",
    "\n",
    "    data.loc['PG','PC'] = -data.loc['PC','PG']\n",
    "    data.loc['PC','PE'] = -data.loc['PE','PC']\n",
    "    data.loc['PE','PG'] = -data.loc['PG','PE']\n",
    "    \n",
    "    return data"
   ]
  },
  {
   "cell_type": "code",
   "execution_count": null,
   "id": "36a863e7-6417-46aa-a985-216dc6ec90c7",
   "metadata": {
    "tags": []
   },
   "outputs": [],
   "source": [
    "def logSpace(xmin=-9, xmax=0, N=1000):\n",
    "    grid_x = np.logspace(xmin, xmax, N)\n",
    "\n",
    "    xPG, xPE = np.meshgrid(grid_x, grid_x) #titration grid\n",
    "\n",
    "    xPC =  np.full((N, N), 1.0) - (xPG + xPE) #PC+PG+PE=1\n",
    "    mask = xPC<0\n",
    "    xPG=np.where(~mask, xPG, np.nan)\n",
    "    xPE=np.where(~mask, xPE, np.nan)\n",
    "    \n",
    "    return xPC, xPG, xPE"
   ]
  },
  {
   "cell_type": "code",
   "execution_count": null,
   "id": "065e6e1c-c801-4587-880d-e784ed9a09d6",
   "metadata": {
    "tags": []
   },
   "outputs": [],
   "source": [
    "def linSpace(xmin=0, xmax=1, N=1000):\n",
    "    grid_x = np.linspace(xmin, xmax, N)\n",
    "\n",
    "    xPG, xPE = np.meshgrid(grid_x, grid_x) #titration grid\n",
    "\n",
    "    xPC =  np.full((N, N), 1.0) - (xPG + xPE) #PC+PG+PE=1\n",
    "    mask = xPC<0\n",
    "    xPG=np.where(~mask, xPG, np.nan)\n",
    "    xPE=np.where(~mask, xPE, np.nan)\n",
    "    \n",
    "    return xPC, xPG, xPE"
   ]
  },
  {
   "cell_type": "code",
   "execution_count": null,
   "id": "3f9cadc7-ea0a-4449-b561-5863ecdb2c45",
   "metadata": {
    "tags": []
   },
   "outputs": [],
   "source": [
    "def genLogProb(E5, WT, RT):\n",
    "    #Boltzmann weights\n",
    "    KCG5  = np.exp(-E5.loc['PC','PG'] / RT)\n",
    "    KCGWT = np.exp(-WT.loc['PC','PG'] / RT)\n",
    "    KCE5  = np.exp(-E5.loc['PC','PE']/ RT)\n",
    "    KCEWT = np.exp(-WT.loc['PC','PE'] / RT)\n",
    "\n",
    "    data = (xPC + KCG5 * xPG + KCE5 * xPE) / (xPC + KCGWT * xPG + KCEWT * xPE)\n",
    "    data = np.log(data)\n",
    "    #data=np.where(mask, data, np.nan)\n",
    "    \n",
    "    return data"
   ]
  },
  {
   "cell_type": "code",
   "execution_count": null,
   "id": "3d605ffe",
   "metadata": {},
   "outputs": [],
   "source": [
    "##Old numbers\n",
    "#DG_PG_5  = -7\n",
    "#DG_PG_WT = -11\n",
    "#DG_PE_5  = -2\n",
    "#DG_PE_WT = -9\n",
    "\n",
    "\n",
    "#Constants\n",
    "temperature = 303.15 #Kelvin\n",
    "RT = temperature*constants.R/(1000*constants.calorie) #kcal/mol\n",
    "\n",
    "lw=3\n",
    "conformationCMAP = 'RdBu'\n",
    "#colormap={'PC':'cornflowerblue', 'PG':'goldenrod', 'PE':'seagreen', 'WT':'red', 'E5':'black'}\n",
    "#colormap={'PC':'lightsteelblue', 'PG':'khaki', 'PE':'lightgreen', 'WT':'red', 'E5':'black'}\n",
    "colormap={'PC':'#EF8354', 'PG':'#3D3737', 'PE':'#613DC1', 'WT':'#D14646', 'E5':'#53A2BE'}"
   ]
  },
  {
   "cell_type": "markdown",
   "id": "4fdf69a7-4894-481e-8d9b-e9912beaef44",
   "metadata": {
    "tags": []
   },
   "source": [
    "# Calculate and plot conformation probabilities given lipid binding"
   ]
  },
  {
   "cell_type": "code",
   "execution_count": null,
   "id": "db9fcd51-5c3f-4d3d-bc2a-fa71b117da24",
   "metadata": {
    "tags": []
   },
   "outputs": [],
   "source": [
    "# #All data:\n",
    "# #Using a PG reference\n",
    "# WT_bin = mktable(PCtoPG=-7, PGtoPE=2, PEtoPC= 7-2)\n",
    "# E5_bin = mktable(PCtoPG=-4, PGtoPE=6, PEtoPC= 4-6)\n",
    "# WT_ter = mktable(PCtoPG=-6, PGtoPE=2, PEtoPC= 6-2)\n",
    "# E5_ter = mktable(PCtoPG=-3, PGtoPE=6, PEtoPC= 3-6)"
   ]
  },
  {
   "cell_type": "code",
   "execution_count": null,
   "id": "cc96565f-86cb-49f3-9bda-6f8056aec087",
   "metadata": {
    "tags": []
   },
   "outputs": [],
   "source": [
    "#All data:\n",
    "#Using a PE reference\n",
    "WT_bin = mktable(PCtoPG=-6-2, PGtoPE=2, PEtoPC= 6)\n",
    "E5_bin = mktable(PCtoPG=-6-4, PGtoPE=6, PEtoPC= 4)\n",
    "WT_ter = mktable(PCtoPG=-4-2, PGtoPE=2, PEtoPC= 4)\n",
    "E5_ter = mktable(PCtoPG=-6-2, PGtoPE=6, PEtoPC= 2)"
   ]
  },
  {
   "cell_type": "code",
   "execution_count": null,
   "id": "50339b0d-a803-4a91-b1b7-65eff27f392d",
   "metadata": {
    "tags": []
   },
   "outputs": [],
   "source": [
    "# #All data:\n",
    "# #Using a PC reference\n",
    "# WT_bin = mktable(PCtoPG=-7, PGtoPE=-6+7, PEtoPC= 6)\n",
    "# E5_bin = mktable(PCtoPG=-4, PGtoPE=-4+4, PEtoPC= 4)\n",
    "# WT_ter = mktable(PCtoPG=-6, PGtoPE=-4+6, PEtoPC= 4)\n",
    "# E5_ter = mktable(PCtoPG=-3, PGtoPE=-2+3, PEtoPC= 2)"
   ]
  },
  {
   "cell_type": "code",
   "execution_count": null,
   "id": "81e30060-31fc-45bf-93fd-e4eab80ce6d7",
   "metadata": {},
   "outputs": [],
   "source": [
    "def addArrow(x, y, ax, direction, log):\n",
    "    headSize = 70\n",
    "    lineSize = 70\n",
    "    lineWidth = 3\n",
    "    if log==True:\n",
    "        if direction in ['up', 'down']:\n",
    "            xoffset = 1.001\n",
    "            yoffset = 0.7\n",
    "        else:\n",
    "            xoffset = 0.7\n",
    "            yoffset = 1.001\n",
    "        \n",
    "        xup = x*xoffset\n",
    "        xdown = x/xoffset\n",
    "        \n",
    "        \n",
    "        yup = y*yoffset\n",
    "        ydown = y/yoffset\n",
    "    else:\n",
    "        if direction in ['up', 'down']:\n",
    "            xoffset = 0 \n",
    "            yoffset = 0.02\n",
    "        else:\n",
    "            xoffset = 0.02\n",
    "            yoffset = 0\n",
    "        \n",
    "        xup = x-xoffset\n",
    "        xdown = x+xoffset\n",
    "        \n",
    "        \n",
    "        yup = y-yoffset\n",
    "        ydown = y+yoffset\n",
    "        \n",
    "        \n",
    "    if direction=='up':\n",
    "        ax.scatter(x, y, marker=mpl.markers.CARETUP, color='w', s=headSize, linewidths=0)\n",
    "        ax.scatter(xup, yup, marker=mpl.markers.TICKDOWN, color='w', s=lineSize, linewidths=lineWidth)\n",
    "    elif direction=='down':\n",
    "        ax.scatter(x, y, marker=mpl.markers.CARETDOWN, color='w', s=headSize, linewidths=0)\n",
    "        ax.scatter(xdown, ydown, marker=mpl.markers.TICKUP, color='w', s=lineSize, linewidths=lineWidth)\n",
    "    elif direction=='left':\n",
    "        ax.scatter(x, y, marker=mpl.markers.CARETLEFT, color='w', s=headSize, linewidths=0)\n",
    "        ax.scatter(xdown, ydown, marker=mpl.markers.TICKRIGHT, color='w', s=lineSize, linewidths=lineWidth)\n",
    "    elif direction=='right':\n",
    "        ax.scatter(x, y, marker=mpl.markers.CARETRIGHT, color='w', s=headSize, linewidths=0)\n",
    "        ax.scatter(xup, yup, marker=mpl.markers.TICKLEFT, color='w', s=lineSize, linewidths=lineWidth)\n",
    "    else:\n",
    "        print(f\"ERROR: direction {direction} not recognized\")\n",
    "        raise"
   ]
  },
  {
   "cell_type": "code",
   "execution_count": null,
   "id": "1d4c43d4-e93f-43c5-abec-0d3bdde52394",
   "metadata": {
    "tags": []
   },
   "outputs": [],
   "source": [
    "def makeContourf(xPG, xPE, data, xmin=1e-9, xmax=1, log=True, cmap='jet', vmin=-8, vmax=8):\n",
    "    %matplotlib widget\n",
    "    \n",
    "    fig, ax = plt.subplots() \n",
    "\n",
    "    step=0.1\n",
    "    levels = np.arange(-4, 4+step, step)\n",
    "\n",
    "    cf = ax.contourf(xPG, xPE, data, levels=levels, cmap=cmap)\n",
    "    \n",
    "    ax.set_xlabel(r\"$x_{PG}$\")\n",
    "    ax.set_ylabel(r\"$x_{PE}$\")\n",
    "    #ax.title.set_text(\"Relative log-probability of ELIC5 conformation\")\n",
    "    #ax.legend(bbox_to_anchor=(1.45,0.5))\n",
    "    \n",
    "    if log:\n",
    "        ax.set_xscale(\"log\")\n",
    "        ax.set_yscale(\"log\") \n",
    "        arrowWidth = 5\n",
    "        arrowLength = 0.1\n",
    "    else:\n",
    "        arrowWidth = 5\n",
    "        arrowLength = 0.2\n",
    "\n",
    "    \n",
    "    ax.set_xlim([xmin,xmax])\n",
    "    ax.set_ylim([xmin,xmax])\n",
    "\n",
    "    \n",
    "    addArrow(0.25, 0.25, ax, 'up', log)\n",
    "    addArrow(0.25, xmin, ax, 'down', log)\n",
    "    addArrow(1/60, xmin, ax, 'down', log)\n",
    "    addArrow(xmin, 1/60, ax, 'left', log)\n",
    "    \n",
    "    pos = ax.get_position()\n",
    "    \n",
    "    cb = fig.colorbar(cf, ax=ax, ticks=np.arange(vmin, vmax+1, 2))\n",
    "    #cbar.ax.set_yticklabels(['< -1', '0', '> 1'])  # vertically oriented colorbar\n",
    "    for t in cb.ax.get_yticklabels():\n",
    "        t.set_horizontalalignment('right')   \n",
    "        t.set_x(4)\n",
    "    \n",
    "    plt.xticks([1E-6, 1E-3, 1])\n",
    "    plt.yticks([1E-6, 1E-3, 1])\n",
    "    \n",
    "    fig.set_size_inches(2.5, 2)\n",
    "    plt.subplots_adjust(bottom=0.25, left=0.25)\n",
    "    ax.set_aspect('equal')\n",
    "    return fig, ax"
   ]
  },
  {
   "cell_type": "code",
   "execution_count": null,
   "id": "4389212e-1656-4092-91a1-417df862463f",
   "metadata": {},
   "outputs": [],
   "source": [
    "font = {'size'   : 10}\n",
    "mpl.rc('font', **font)"
   ]
  },
  {
   "cell_type": "code",
   "execution_count": null,
   "id": "e95a560a-d8ee-49f5-99fa-2c8fe6e9018f",
   "metadata": {
    "tags": []
   },
   "outputs": [],
   "source": [
    "xPC, xPG, xPE = logSpace(-6, 0, 1000) #e^-9 to e^0, 1000 steps\n",
    "data = genLogProb(E5_ter, WT_ter, RT)\n",
    "fig, ax = makeContourf(xPG, xPE, data, xmin=1e-6, log=True, cmap=conformationCMAP, vmin=-4, vmax=4)\n",
    "plt.savefig('./Figures/logloglog_pE5.png', dpi=600, bbox_inches='tight')"
   ]
  },
  {
   "cell_type": "code",
   "execution_count": null,
   "id": "070267b7",
   "metadata": {
    "tags": []
   },
   "outputs": [],
   "source": [
    "xPC, xPG, xPE = linSpace(0, 1, 1000) #e^-9 to e^0, 1000 steps\n",
    "data = genLogProb(E5_ter, WT_ter, RT)\n",
    "fig, ax = makeContourf(xPG, xPE, data, xmin=1e-6, log=False, cmap=conformationCMAP, vmin=-4, vmax=4)\n",
    "plt.savefig('./Figures/log_pE5.png', dpi=600)"
   ]
  },
  {
   "cell_type": "code",
   "execution_count": null,
   "id": "e7548721-3237-4a17-9972-bda113cc6913",
   "metadata": {},
   "outputs": [],
   "source": [
    "%matplotlib widget\n",
    "fig = plt.figure()\n",
    "ax = plt.axes(projection='3d')\n",
    "ax.plot_surface(xPG, xPE, data)\n",
    "ax.set_xlabel('PG')\n",
    "ax.set_ylabel('PE')\n",
    "ax.set_zlabel('log(E5) conformation')\n",
    "\n",
    "ax.set_title('3D contour')\n",
    "plt.show()\n"
   ]
  },
  {
   "cell_type": "markdown",
   "id": "c381d96f-a8af-4704-a530-7bbd1ef7b0a4",
   "metadata": {},
   "source": [
    "# Binding in a Ternary Mixture (implementation of derivation posted Sunday, April 3, 2022)"
   ]
  },
  {
   "cell_type": "code",
   "execution_count": null,
   "id": "1d7ef2f9-7a23-43da-b785-514c1291e84c",
   "metadata": {},
   "outputs": [],
   "source": [
    "def getRelProb(alpha, beta, xa, xb, stateTable, RT):\n",
    "    with np.errstate(divide='ignore'):\n",
    "        prob = (xa/xb) * np.exp(-stateTable.loc[beta, alpha]/RT)\n",
    "\n",
    "    return prob"
   ]
  },
  {
   "cell_type": "code",
   "execution_count": null,
   "id": "776c3a12-66c1-422f-a2dd-ce1c31b8b5b1",
   "metadata": {},
   "outputs": [],
   "source": [
    "def getpAa(alpha, beta, gamma, xa, xb, xg, stateTable, RT):\n",
    "    pA0a = 0\n",
    "    pAba = getRelProb(beta, alpha, xb, xa, stateTable, RT)\n",
    "    pAga = getRelProb(gamma, alpha, xg, xa, stateTable, RT)\n",
    "\n",
    "    pAa = 1/(1+pAba+pAga+pA0a)\n",
    "    \n",
    "    return pAa"
   ]
  },
  {
   "cell_type": "code",
   "execution_count": null,
   "id": "791f6e0f-8d79-4ad0-9a8c-2c8ae533a0f0",
   "metadata": {},
   "outputs": [],
   "source": [
    "#This is the same as pAa when pA0a is 0\n",
    "def getfAa(alpha, beta, gamma, xa, xb, xg, stateTable, RT):\n",
    "    pAa = getpAa(alpha, beta, gamma, xa, xb, xg, stateTable, RT)\n",
    "    pAb = getpAa(beta, alpha, gamma, xb, xa, xg, stateTable, RT)\n",
    "    pAg = getpAa(gamma, beta, alpha, xg, xb, xa, stateTable, RT)\n",
    "    \n",
    "    fAa = pAa/(pAa+pAb+pAg)\n",
    "    \n",
    "    return fAa"
   ]
  },
  {
   "cell_type": "code",
   "execution_count": null,
   "id": "8dea93eb-898f-4557-90fa-07a88fcfbc0a",
   "metadata": {},
   "outputs": [],
   "source": [
    "#xPG = np.linspace(0, 1, 1000)\n",
    "xPG = np.logspace(-6, 0, 100)"
   ]
  },
  {
   "cell_type": "code",
   "execution_count": null,
   "id": "49ba378c-466c-42a0-99c1-27b3182034ee",
   "metadata": {},
   "outputs": [],
   "source": [
    "font = {'size'   : 20}\n",
    "mpl.rc('font', **font)"
   ]
  },
  {
   "cell_type": "code",
   "execution_count": null,
   "id": "26bffdf7-dabd-4805-bc3e-56a24e15b33f",
   "metadata": {},
   "outputs": [],
   "source": [
    "xPX = 1-xPG\n",
    "xPC = xPX*2/3\n",
    "xPE = xPX/3\n",
    "%matplotlib widget\n",
    "\n",
    "#Binary mixture numbers currently make no appreciable difference\n",
    "#fPC = getfAa('PC', 'PG', 'PE', xPC,xPG,xPE, WT_bin, RT)\n",
    "#fPG = getfAa('PG', 'PC', 'PE', xPG,xPC,xPE, WT_bin, RT)\n",
    "#fPE = getfAa('PE', 'PG', 'PC', xPE,xPG,xPC, WT_bin, RT)\n",
    "\n",
    "#plt.plot(xPG,fPC, label='fPC_bin')\n",
    "#plt.plot(xPG,fPG, label='fPG_bin')\n",
    "#lt.plot(xPG,fPE, label='fPE_bin')\n",
    "\n",
    "fPC = getfAa('PC', 'PG', 'PE', xPC,xPG,xPE, WT_ter, RT)\n",
    "fPG = getfAa('PG', 'PC', 'PE', xPG,xPC,xPE, WT_ter, RT)\n",
    "fPE = getfAa('PE', 'PG', 'PC', xPE,xPG,xPC, WT_ter, RT)\n",
    "\n",
    "plt.plot(xPG,fPC, label='PC', color=colormap['PC'], linewidth=lw)\n",
    "plt.plot(xPG,fPG, label='PG', color=colormap['PG'], linewidth=lw)\n",
    "plt.plot(xPG,fPE, label='PE', color=colormap['PE'], linewidth=lw)\n",
    "\n",
    "plt.xlabel(r'$x_{PG}$')\n",
    "plt.ylabel('Fraction of Sites Occupied')\n",
    "#plt.title('Wild Type PG Titration')\n",
    "\n",
    "plt.legend(loc='center left')\n",
    "plt.xscale('log')\n",
    "fig.set_size_inches(2.5, 2)\n",
    "plt.subplots_adjust(bottom=0.25, left=0.25)\n",
    "plt.xticks([1E-6, 1E-3, 1])\n",
    "plt.savefig('./Figures/WT_PG_Titration_Ternary.png', dpi=600)"
   ]
  },
  {
   "cell_type": "code",
   "execution_count": null,
   "id": "6e4c5112-3ca1-4c83-91cb-9bb1cbb450d1",
   "metadata": {
    "tags": []
   },
   "outputs": [],
   "source": [
    "xPX = 1-xPG\n",
    "xPC = xPX*2/3\n",
    "xPE = xPX/3\n",
    "\n",
    "fPC = getfAa('PC', 'PG', 'PE', xPC,xPG,xPE, E5_ter, RT)\n",
    "fPG = getfAa('PG', 'PC', 'PE', xPG,xPC,xPE, E5_ter, RT)\n",
    "fPE = getfAa('PE', 'PG', 'PC', xPE,xPG,xPC, E5_ter, RT)\n",
    "\n",
    "%matplotlib widget\n",
    "plt.plot(xPG,fPC, label='PC', color=colormap['PC'], linewidth=lw)\n",
    "plt.plot(xPG,fPG, label='PG', color=colormap['PG'], linewidth=lw)\n",
    "plt.plot(xPG,fPE, label='PE', color=colormap['PE'], linewidth=lw)\n",
    "\n",
    "plt.legend()\n",
    "\n",
    "plt.xscale('log')\n",
    "plt.xlabel(r'$x_{PG}$')\n",
    "plt.ylabel('Fraction of Sites Occupied')\n",
    "#plt.title('ELIC5 PG Titration')\n",
    "fig.set_size_inches(2.5, 2)\n",
    "plt.subplots_adjust(bottom=0.25, left=0.25)\n",
    "plt.xticks([1E-6, 1E-3, 1])\n",
    "plt.savefig('./Figures/ELIC5_PG_Titration_Ternary.png', dpi=600)"
   ]
  },
  {
   "cell_type": "code",
   "execution_count": null,
   "id": "b2621f8e-6dda-47d2-a09c-d4b2ae01bdc3",
   "metadata": {},
   "outputs": [],
   "source": [
    "xPX = 1-xPG\n",
    "xPC = xPX*2/3\n",
    "xPE = xPX/3\n",
    "#fPC = []\n",
    "#for x in np.arange(len(xPG)):\n",
    "    #fPC.append(getpAa('PC', 'PG', 'PE', xPC[x],xPG[x],xPE[x], WT, RT))\n",
    "#Or equivalently:\n",
    "\n",
    "WTfPG_ter = getfAa('PG', 'PC', 'PE', xPG,xPC,xPE, WT_ter, RT)\n",
    "E5fPG_ter = getfAa('PG', 'PC', 'PE', xPG,xPC,xPE, E5_ter, RT)\n",
    "\n",
    "\n",
    "xPC = 1-xPG\n",
    "WTfPG_bin = getfAa('PG', 'PC', 'PE', xPG,xPC,xPE, WT_bin, RT)\n",
    "E5fPG_bin = getfAa('PG', 'PC', 'PE', xPG,xPC,xPE, E5_bin, RT)\n",
    "\n",
    "%matplotlib widget\n",
    "plt.plot(xPG,E5fPG_bin, label='ELIC5 1:0:X', linestyle='-', color=colormap['E5'])\n",
    "plt.plot(xPG,WTfPG_bin, label='WT 1:0:X', linestyle='-', color=colormap['WT'])\n",
    "plt.plot(xPG,E5fPG_ter, label='ELIC5 2:1:X', linestyle='--', color=colormap['E5'], linewidth=2)\n",
    "plt.plot(xPG,WTfPG_ter, label='WT 2:1:X', linestyle='--', color=colormap['WT'], linewidth=2)\n",
    "\n",
    "#plt.xlim([10**(-9), 1])\n",
    "plt.legend(loc='lower right', prop={'size':10})\n",
    "plt.xscale('log')\n",
    "\n",
    "plt.xlabel(r'$x_{PG}$')\n",
    "plt.ylabel('Fraction of Sites Occupied by PG')\n",
    "#plt.title('PG Titration Comparison')\n",
    "#plt.xlim([1e-9, 1])\n",
    "\n",
    "fig.set_size_inches(2.5, 2)\n",
    "plt.subplots_adjust(bottom=0.25, left=0.25)\n",
    "plt.xticks([1E-6, 1E-3, 1])\n",
    "plt.savefig('./Figures/PG_titration.png', dpi=600)"
   ]
  },
  {
   "cell_type": "code",
   "execution_count": null,
   "id": "1f020519-f44d-48dd-a6eb-0d3643de62c7",
   "metadata": {},
   "outputs": [],
   "source": [
    "#Generate numbers for barchart\n",
    "\n",
    "bar_xPC = 0.5\n",
    "bar_xPG = 0.25\n",
    "bar_xPE = 0.25\n",
    "\n",
    "cols = ['fPC', 'fPG', 'fPE']\n",
    "rows = pd.MultiIndex.from_tuples([('WT','2:1:1'), ('WT', '128:1'), ('E5', '2:1:1'), ('E5', '128:1')], names=['sequence', 'membrane'])\n",
    "data = pd.DataFrame(columns=cols, index=rows)\n",
    "\n",
    "data.loc[('WT','2:1:1'),'fPC'] = getpAa('PC', 'PG', 'PE', bar_xPC,bar_xPG,bar_xPE, WT_ter, RT)\n",
    "data.loc[('WT','2:1:1'),'fPG'] = getpAa('PG', 'PC', 'PE', bar_xPG,bar_xPC,bar_xPE, WT_ter, RT)\n",
    "data.loc[('WT','2:1:1'),'fPE'] = getpAa('PE', 'PG', 'PC', bar_xPE,bar_xPG,bar_xPC, WT_ter, RT)\n",
    "\n",
    "data.loc[('E5','2:1:1'),'fPC'] = getpAa('PC', 'PG', 'PE', bar_xPC,bar_xPG,bar_xPE, E5_ter, RT)\n",
    "data.loc[('E5','2:1:1'),'fPG'] = getpAa('PG', 'PC', 'PE', bar_xPG,bar_xPC,bar_xPE, E5_ter, RT)\n",
    "data.loc[('E5','2:1:1'),'fPE'] = getpAa('PE', 'PG', 'PC', bar_xPE,bar_xPG,bar_xPC, E5_ter, RT)\n",
    "\n",
    "bar_xPC = 128/129\n",
    "bar_xPG = 1/129\n",
    "bar_xPE = 0\n",
    "data.loc[('WT','128:1'),'fPC'] = getpAa('PC', 'PG', 'PE', bar_xPC,bar_xPG,bar_xPE, WT_bin, RT)\n",
    "data.loc[('WT','128:1'),'fPG'] = getpAa('PG', 'PC', 'PE', bar_xPG,bar_xPC,bar_xPE, WT_bin, RT)\n",
    "\n",
    "data.loc[('E5','128:1'),'fPC'] = getpAa('PC', 'PG', 'PE', bar_xPC,bar_xPG,bar_xPE, E5_bin, RT)\n",
    "data.loc[('E5','128:1'),'fPG'] = getpAa('PG', 'PC', 'PE', bar_xPG,bar_xPC,bar_xPE, E5_bin, RT)\n",
    "data = data.loc[:, ['fPG', 'fPC', 'fPE']]\n",
    "data.columns = ['PG', 'PC', 'PE']"
   ]
  },
  {
   "cell_type": "code",
   "execution_count": null,
   "id": "02beedb1-1316-4698-82a3-ce345f3f462e",
   "metadata": {},
   "outputs": [],
   "source": [
    "%matplotlib widget\n",
    "\n",
    "fig, (ax211, ax1281) = plt.subplots(1,2, sharey=True)\n",
    "data.loc[(slice(None), '2:1:1'),:].plot.bar(ax=ax211, stacked=True, color=colormap)\n",
    "ax211.set_xticklabels(['WT', 'E5'])\n",
    "ax211.set_xlabel('PC:PG:PE 2:1:1')\n",
    "\n",
    "#PG, PG, PC, PC, PE, PE\n",
    "hatches=['\\\\\\\\', '\\\\\\\\', '//', '//', '||', '||']\n",
    "bars = ax211.patches\n",
    "#for bar, hatch in zip(bars, hatches):\n",
    "    #bar.set_hatch(hatch)\n",
    "\n",
    "\n",
    "data.loc[(slice(None), '128:1'),:].plot.bar(ax=ax1281, stacked=True, color=colormap)\n",
    "ax1281.set_xticklabels(['WT', 'E5'])\n",
    "ax1281.set_xlabel('PC:PG 128:1') \n",
    "\n",
    "fig.set_size_inches(4.5, 7.9)\n",
    "\n",
    "ax1281.legend(loc='center', prop={'size': 12}, handleheight=3, bbox_to_anchor=(1.45,0.5))\n",
    "ax211.get_legend().remove()\n",
    "\n",
    "#ax1281.set_position([box.x0, box.y0, box.width * 0.9, box.height])\n",
    "pos = ax1281.get_position()\n",
    "width = pos.x1-pos.x0\n",
    "pos.x0 = 0.5      # for example 0.2, choose your value\n",
    "pos.x1 = pos.x0+width\n",
    "ax1281.set_position(pos)\n",
    "\n",
    "\n",
    "fig.tight_layout()\n",
    "#fig.suptitle('Absolute Occupancy Fraction')\n",
    "ax211.set_ylabel('Occupancy Fraction')\n",
    "plt.subplots_adjust(bottom=0.15, left=0.25)\n",
    "#ax211.semilogy()\n",
    "plt.savefig('./Figures/OccupancyFraction.png', dpi=600)"
   ]
  },
  {
   "cell_type": "code",
   "execution_count": null,
   "id": "9d70b039-09c8-42dd-a025-09c98157706c",
   "metadata": {},
   "outputs": [],
   "source": []
  }
 ],
 "metadata": {
  "kernelspec": {
   "display_name": "Python 3 (ipykernel)",
   "language": "python",
   "name": "python3"
  },
  "language_info": {
   "codemirror_mode": {
    "name": "ipython",
    "version": 3
   },
   "file_extension": ".py",
   "mimetype": "text/x-python",
   "name": "python",
   "nbconvert_exporter": "python",
   "pygments_lexer": "ipython3",
   "version": "3.9.12"
  }
 },
 "nbformat": 4,
 "nbformat_minor": 5
}
