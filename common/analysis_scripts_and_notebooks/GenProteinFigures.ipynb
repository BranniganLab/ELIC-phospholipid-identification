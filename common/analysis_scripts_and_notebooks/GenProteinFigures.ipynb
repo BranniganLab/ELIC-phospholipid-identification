{
 "cells": [
  {
   "cell_type": "markdown",
   "id": "fd0bd302",
   "metadata": {},
   "source": [
    "# Import necessary libraries\n",
    "SAFEP_parse.py contains all the functions and library calls necessary to run the notebook\n",
    "# Required libraries:\n",
    "- numpy\n",
    "- pandas\n",
    "- matplotlib\n",
    "- alchemlyb (pip install git+https://github.com/alchemistry/alchemlyb)\n",
    "- natsort (for sorting file names)\n",
    "- glob (for unix-like file paths)\n",
    "\n"
   ]
  },
  {
   "cell_type": "markdown",
   "id": "28c611cf-9400-4bbe-b8c1-fe4b8d66ab73",
   "metadata": {},
   "source": [
    "# IMPORTANT: Make sure the temperature (set below) matches the temperature you used to run the simulations."
   ]
  },
  {
   "cell_type": "code",
   "execution_count": null,
   "id": "708b4d0d",
   "metadata": {},
   "outputs": [],
   "source": [
    "import warnings\n",
    "import logging\n",
    "import copy\n",
    "import matplotlib as mpl\n",
    "from AFEP_parse import *\n",
    "plt.rcParams['figure.dpi'] = 150\n",
    "\n",
    "logging.captureWarnings(True)\n",
    "warnings.simplefilter(action='ignore', category=FutureWarning)\n",
    "#logger = logging.getLogger(\"alchemlyb.parsers.NAMD\")\n",
    "logging.disable(level='CRITICAL')\n",
    "\n",
    "from helpers import *"
   ]
  },
  {
   "cell_type": "code",
   "execution_count": null,
   "id": "a8b847bd-0213-4ca9-8058-42da4be35497",
   "metadata": {},
   "outputs": [],
   "source": [
    "def checkPaths(paths, nDone):\n",
    "    goodpaths = []\n",
    "    for path in paths:\n",
    "        feps = glob(path+pattern)\n",
    "        countDone = 0\n",
    "        for fep in feps:\n",
    "            with open(fep) as f:\n",
    "                if 'Free' in f.read():\n",
    "                    countDone+=1\n",
    "        if countDone == nDone:\n",
    "            goodpaths.append(path)\n",
    "    \n",
    "    return goodpaths"
   ]
  },
  {
   "cell_type": "code",
   "execution_count": null,
   "id": "8f690f64-6bef-4e59-a9b3-6d2432ffa0e3",
   "metadata": {},
   "outputs": [],
   "source": [
    "temperature = 303.15\n",
    "RT = 0.00198720650096 * temperature # ca. 0.59kcal/mol\n",
    "decorrelate = True #Flag for decorrelation of samples\n",
    "detectEQ = False #Flag for automated equilibrium detection\n",
    "DiscrepancyFitting = 'LS' #ML = fit PDF of discrepancies with a normal distribution maximum likelihood estimator. LS = fit CDF of discrepancies with a normal distribution least-squares estimator"
   ]
  },
  {
   "cell_type": "code",
   "execution_count": null,
   "id": "d11cac8e-6844-41a5-ae05-c7c387b725cb",
   "metadata": {},
   "outputs": [],
   "source": [
    "## Membranes\n",
    "root = '../../protein_systems/'\n",
    "systems = ['ELIC5', 'WT']\n",
    "longSysNames = {'ELIC5':'5 Mutant', 'WT':'Wild Type'}\n",
    "\n",
    "prefixes = ['PE_to_PC', 'PC_to_PG', 'PE_to_PG']\n",
    "longNames = {'PC_to_PG':'POPC to POPG', 'PE_to_PG':'POPE to POPG', 'PE_to_PC':'POPE to POPC'}\n",
    "\n",
    "lambdas = np.round(np.linspace(0,1,41),5)\n",
    "\n",
    "pattern = 'p*fepout'\n",
    "checkReplicas = False"
   ]
  },
  {
   "cell_type": "code",
   "execution_count": null,
   "id": "1c9646ee-8164-45a3-aa18-08401748ad8d",
   "metadata": {
    "tags": []
   },
   "outputs": [],
   "source": [
    "allSys = {}\n",
    "\n",
    "reread = False\n",
    "\n",
    "for sys in systems:\n",
    "    path = root+sys+'/'\n",
    "    \n",
    "    if not reread:\n",
    "        try:\n",
    "            system = loadSystem(path)\n",
    "            print(f\"Read saved {sys} from {path}\")\n",
    "        except:\n",
    "            print(\"Failed to read saved file. Parsing FEPOUTS.\")\n",
    "            system = processAllLegs(path, prefixes, pattern, lambdas, temperature, RT, decorrelate, detectEQ, postfix='/')\n",
    "            saveSystem(system, path)\n",
    "    else:\n",
    "        system = processAllLegs(path, prefixes, pattern, lambdas, temperature, RT, decorrelate, detectEQ, postfix='/')\n",
    "        saveSystem(system, path)\n",
    "    allSys[sys] = system"
   ]
  },
  {
   "cell_type": "code",
   "execution_count": null,
   "id": "4021b587-eb6f-46ad-a928-785be7bc61e3",
   "metadata": {},
   "outputs": [],
   "source": [
    "for sys in systems:\n",
    "    for key in allSys[sys].keys():\n",
    "        try:\n",
    "            allSys[sys][key].columns = allSys[sys][key].columns.droplevel(1)\n",
    "        except:\n",
    "            continue"
   ]
  },
  {
   "cell_type": "code",
   "execution_count": null,
   "id": "7e407a9c-cc30-4247-98ef-917b4f239123",
   "metadata": {},
   "outputs": [],
   "source": [
    "\n",
    "\n",
    "def makePlots(allSys, systems, prefixes, xlabel, ylabel, doPlot, sharey=True, sharex=True, sameAx=False, masterColors=['#0072B2', '#D55E00', '#CC79A7', '#009E73', '#E69F00']):\n",
    "    if sameAx:\n",
    "        fig, theaxes = plt.subplots(3,1, sharex=sharex, sharey=sharey)\n",
    "    else:\n",
    "        fig, theaxes = plt.subplots(3,len(systems), sharex=sharex, sharey=sharey)\n",
    "    pad = 5 # in points\n",
    "    \n",
    "    for prefID in np.arange(len(prefixes)):\n",
    "        leg = prefixes[prefID]\n",
    "        if sameAx:\n",
    "            theaxes[2].set(xlabel=xlabel)\n",
    "            #theaxes[0].annotate(sysName, xy=(0.5, 1), xytext=(0, pad),\n",
    "                    #xycoords='axes fraction', textcoords='offset points',\n",
    "                    #size='large', ha='center', va='baseline')\n",
    "            theax = doPlot(allSys, systems, leg, masterColors, theaxes[prefID])\n",
    "            theaxes[prefID].set(ylabel=ylabel)\n",
    "            theaxes[prefID].annotate(longNames[leg], xy=(0, 0.5), xytext=(-theaxes[prefID].yaxis.labelpad - pad, 0),\n",
    "                xycoords=theaxes[prefID].yaxis.label, textcoords='offset points',\n",
    "                size='large', ha='right', va='center', rotation=90)\n",
    "            theaxes[0].legend()\n",
    "            \n",
    "            fig.set_figheight(6)\n",
    "            fig.set_figwidth(3)\n",
    "        \n",
    "        else:\n",
    "            fig.set_figheight(len(systems)*10.0/3.0)\n",
    "            fig.set_figwidth(len(systems)*8.0/3)\n",
    "            for sysID in np.arange(len(systems)):\n",
    "                \n",
    "                sysName = systems[sysID]\n",
    "                system = allSys[sysName]\n",
    "                print(f'Now making figures for: {sysName}')\n",
    "\n",
    "                theaxes[2, sysID].set(xlabel=xlabel)\n",
    "                theaxes[0, sysID].annotate(sysName, xy=(0.5, 1), xytext=(0, pad),\n",
    "                        xycoords='axes fraction', textcoords='offset points',\n",
    "                        size='large', ha='center', va='baseline')\n",
    "\n",
    "                try:\n",
    "                    keys = system['keyColors'][leg].keys()\n",
    "                    keyColors = system['keyColors'][leg]\n",
    "\n",
    "                    theaxes[prefID, 0].set(ylabel=ylabel)\n",
    "                    theaxes[prefID, 0].annotate(longNames[leg], xy=(0, 0.5), xytext=(-theaxes[prefID, 0].yaxis.labelpad - pad, 0),\n",
    "                        xycoords=theaxes[prefID, 0].yaxis.label, textcoords='offset points',\n",
    "                        size='large', ha='right', va='center', rotation=90)\n",
    "                    theax = doPlot(system, leg, keys, keyColors, theaxes[prefID, sysID])\n",
    "                except:\n",
    "                    print(\"An error occured. Do you have bogus 'replicas'?\")\n",
    "                    raise\n",
    "                    continue\n",
    "            \n",
    "\n",
    "        \n",
    "\n",
    "    fig.tight_layout()\n",
    "    \n",
    "    return fig, theaxes\n",
    "\n",
    "def colorKey(system, leg, keys, keyColors, theax):\n",
    "    X = 0\n",
    "    Y = 0\n",
    "    width = 0.5\n",
    "    height = 0.5\n",
    "    for key in keys:\n",
    "        print(key)\n",
    "        if keyColors[key]:\n",
    "            patch = mpl.patches.Rectangle((X,Y),width, height, edgecolor=keyColors[key], linewidth=None, facecolor=keyColors[key])\n",
    "            theax.add_patch(patch)\n",
    "            Y += height\n",
    "            theax.text(0, Y-height/len(keys), key)\n",
    "    \n",
    "    theax.set(ylim=(0,Y), yticks=[], xticks=[])\n",
    "\n",
    "    return theax\n"
   ]
  },
  {
   "cell_type": "code",
   "execution_count": null,
   "id": "1b08c702-030e-49f0-abac-f160585eb9b9",
   "metadata": {},
   "outputs": [],
   "source": [
    "\n",
    "def sharedCumulativePlot(allSys, systems, leg, colors, theax):\n",
    "    for sysID in np.arange(len(systems)):\n",
    "        sysName = systems[sysID]\n",
    "        system = allSys[sysName]\n",
    "        cumulative = system['cumulatives'][leg]\n",
    "        X = cumulative.index\n",
    "        \n",
    "        Y = cumulative['f']*RT\n",
    "        theColor = colors[sysID]\n",
    "        theax.plot(X, Y, marker=None, label=sysName, linewidth=1, color=theColor)\n",
    "        #finalMean = cumulative.loc[1].iloc[0]*RT\n",
    "        finalMean = np.mean(cumulative.loc[1, 'f'])\n",
    "        theax.axhline(finalMean*RT, color=colors[sysID], linestyle='-.', linewidth=1)\n",
    "    \n",
    "    return theax"
   ]
  },
  {
   "cell_type": "code",
   "execution_count": null,
   "id": "8ef44b36-cc48-4a53-a7df-f5e480763dbb",
   "metadata": {},
   "outputs": [],
   "source": [
    "fig, dGaxes = makePlots(allSys, systems, prefixes, xlabel=r'$\\rm\\lambda$', ylabel=r'Cumulative $\\rm\\Delta$G($\\rm\\lambda$)'+'\\n (kcal/mol)', doPlot=sharedCumulativePlot, sameAx=True)\n",
    "plt.savefig(f\"{root}/Protein_DRAFT_trimmed_sameAx_S4.pdf\")"
   ]
  },
  {
   "cell_type": "code",
   "execution_count": null,
   "id": "daf0fa0d-064a-4e5a-b6a2-88d76ae952d0",
   "metadata": {},
   "outputs": [],
   "source": [
    "trimmed=copy.deepcopy(allSys)"
   ]
  },
  {
   "cell_type": "markdown",
   "id": "c1276cb6-9182-4cea-8650-9a9f21d65dbe",
   "metadata": {},
   "source": [
    "fig, theaxes = makePlots(allSys, systems, prefixes, xlabel=None, ylabel=None, doPlot=colorKey, sharey=False)\n",
    "plt.savefig(f\"{root}/Protein_DRAFT_colorKey.pdf\")"
   ]
  },
  {
   "cell_type": "code",
   "execution_count": null,
   "id": "746ab0f0-bb6b-4bc7-bf19-5aea964750c4",
   "metadata": {},
   "outputs": [],
   "source": [
    "def sharedHystPDF(allSys, systems, leg, colors, theax):\n",
    "    for sysID in np.arange(len(systems)):\n",
    "        sysName = systems[sysID]\n",
    "        print(f'Now making figures for: {sysName}')\n",
    "        system = allSys[sysName]\n",
    "        perWindow = system['perWins'][leg]\n",
    "        # Hysteresis PDF\n",
    "        diff = perWindow.loc[:, 'diff']*RT\n",
    "        try:\n",
    "            X = diff.drop(columns='mean') #Including the mean in here would underestimate the skewness of the distribution\n",
    "        except:\n",
    "            X = diff\n",
    "        Y = np.arange(len(X))/len(X)\n",
    "        binNum = 20\n",
    "        pdfY, pdfX = np.histogram(X, bins=binNum, density=True)\n",
    "        pdfX = (pdfX[1:]+pdfX[:-1])/2\n",
    "\n",
    "\n",
    "        #plot the data\n",
    "        theax.plot(pdfX, pdfY,  color=colors[sysID], label=sysName)\n",
    "    theax.set(xlim=(-1.25, 1.25))\n",
    "    \n",
    "    return theax"
   ]
  },
  {
   "cell_type": "code",
   "execution_count": null,
   "id": "2d490729-a152-43c2-8ddd-1cb588a04793",
   "metadata": {},
   "outputs": [],
   "source": [
    "fig, theaxes = makePlots(allSys, systems, prefixes, xlabel=r'$\\rm\\delta_{\\lambda}$ (kcal/mol)', ylabel='PDF', doPlot=sharedHystPDF, sharey=True, sameAx=True)\n",
    "plt.savefig(f\"{root}/Protein_DRAFT_trimmed_S3.pdf\")"
   ]
  },
  {
   "cell_type": "code",
   "execution_count": null,
   "id": "3862b85d-a36d-4f71-8f92-f1e71ea4d5ec",
   "metadata": {},
   "outputs": [],
   "source": [
    "def hysteresisPDF(system, leg, keys, keyColors, theax):\n",
    "    \n",
    "    perWindow = system['perWins'][leg]\n",
    "    # Hysteresis PDF\n",
    "    diff = perWindow.loc[:, 'diff']*RT\n",
    "    try:\n",
    "        X = diff.drop(columns='mean') #Including the mean in here would underestimate the skewness of the distribution\n",
    "    except:\n",
    "        X = diff\n",
    "    Y = np.arange(len(X))/len(X)\n",
    "    binNum = 20\n",
    "    pdfY, pdfX = np.histogram(X, bins=binNum, density=True)\n",
    "    pdfX = (pdfX[1:]+pdfX[:-1])/2\n",
    "\n",
    "\n",
    "    #plot the data\n",
    "    theax.plot(pdfX, pdfY,  label=\"Estimated Distribution\")\n",
    "    theax.set(xlim=(-1.25, 1.25))\n",
    "    \n",
    "    return theax"
   ]
  },
  {
   "cell_type": "code",
   "execution_count": null,
   "id": "aa1a9195-61d1-4962-9beb-f5471e851d7c",
   "metadata": {},
   "outputs": [],
   "source": [
    "fig, theaxes = makePlots(allSys, systems, prefixes, xlabel=r'$\\rm\\Delta G_{bkwd}-\\Delta G_{fwd}$ (kcal/mol)', ylabel='PDF', doPlot=hysteresisPDF, sharey=True)\n",
    "plt.savefig(f\"{root}/Protein_DRAFT_trimmed_S3.pdf\")"
   ]
  },
  {
   "cell_type": "code",
   "execution_count": null,
   "id": "0961b1f2-3a78-4aaf-b54d-a3adbe3dca2f",
   "metadata": {},
   "outputs": [],
   "source": [
    "def hysteresisPlot(system, leg, keys, keyColors, theax):\n",
    "    print(leg)\n",
    "    perWindow = system['perWins'][leg]\n",
    "    # Hysteresis plot\n",
    "    #for key in keys:\n",
    "        #plt.vlines(perWindow.index, np.zeros(len(perWindow)), perWindow[(key, 'dG_f')] + perWindow[(key, 'dG_b')], label=key, linewidth=2)\n",
    "    diff = perWindow['diff'].iloc[:,0]*RT\n",
    "    theax.plot(perWindow.index, diff, linewidth=0.5, alpha=0.8)\n",
    "\n",
    "    #theax.plot(perWindow.index, perWindow[('mean', 'diff')]*RT, label='mean', linewidth=1.5, color='black')\n",
    "\n",
    "    theax.set(ylim=(-1.25, 1.25))\n",
    "\n",
    "    return theax"
   ]
  },
  {
   "cell_type": "code",
   "execution_count": null,
   "id": "85a977ef-1d3e-42a1-9ae4-84d2e5162a79",
   "metadata": {},
   "outputs": [],
   "source": [
    "fig, theaxes = makePlots(allSys, systems, prefixes, xlabel=r'$\\rm\\lambda$', ylabel=r'$\\rm\\delta_{\\lambda}$ (kcal/mol)', doPlot=hysteresisPlot, sharey='row')\n",
    "plt.savefig(f\"{root}/Protein_DRAFT_altYLabel_S2.pdf\")"
   ]
  },
  {
   "cell_type": "code",
   "execution_count": null,
   "id": "a0fe8b9e-26f4-4c2f-996b-1b24eb413b78",
   "metadata": {},
   "outputs": [],
   "source": [
    "def convergencePlot(system, leg, keys, keyColors, theax):\n",
    "    fs = system['convergence'][leg]['forward']\n",
    "    bs = system['convergence'][leg]['backward']\n",
    "    theax.plot(np.arange(len(fs))/len(fs)+0.1, np.multiply(fs, RT), marker='o', linewidth=1, markerfacecolor='white', markeredgewidth=1, ms=5)\n",
    "    theax.plot(np.arange(len(bs))/len(fs)+0.1, np.multiply(bs, RT), marker='o', linewidth=1, markerfacecolor='white', markeredgewidth=1, ms=5, linestyle='--')\n",
    "\n",
    "    theax.xaxis.set_ticks([0, 0.2, 0.4, 0.6, 0.8, 1])\n",
    "    \n",
    "    cumulative = system['cumulatives'][leg]\n",
    "    finalMean = np.mean(cumulative.loc[1, 'f'])\n",
    "    theax.axhline(y= finalMean*RT, linestyle='-.', color='gray')\n",
    "\n",
    "\n",
    "    \n",
    "    return theax"
   ]
  },
  {
   "cell_type": "code",
   "execution_count": null,
   "id": "165626f2-a336-4f1a-8509-b07e1deb9106",
   "metadata": {},
   "outputs": [],
   "source": [
    "fig, theaxes = makePlots(allSys, systems, prefixes, xlabel='Fraction of simulation time', ylabel=r'$\\rm\\Delta G (kcal/mol)$', doPlot=convergencePlot, sharey='row')\n",
    "theax = theaxes[0,1]\n",
    "theax.plot(0, 0, linewidth=1, color='black', label='Forward Time')\n",
    "theax.plot(0, 0, linewidth=1, color='black', linestyle='--', label='Backward Time')\n",
    "\n",
    "theax.legend()\n",
    "plt.savefig(f\"{root}/Protein_DRAFT_trimmed_S1.pdf\")"
   ]
  },
  {
   "cell_type": "code",
   "execution_count": null,
   "id": "9d0c1423-d307-4723-b5c1-5b86e07bc86d",
   "metadata": {},
   "outputs": [],
   "source": [
    "fig, theaxes = makePlots(allSys, systems, prefixes, xlabel='Fraction of simulation time', ylabel=r'$\\rm\\Delta G (kcal/mol)$', doPlot=convergencePlot, sharey='row')\n",
    "plt.savefig(f\"{root}/Protein_DRAFT_trimmed_S1.pdf\")"
   ]
  },
  {
   "cell_type": "code",
   "execution_count": null,
   "id": "5435cfb6-088f-4eb0-8338-245a90bbe581",
   "metadata": {},
   "outputs": [],
   "source": [
    "def cumulativePlot(system, leg, keys, keyColors, theax):\n",
    "    cumulative = system['cumulatives'][leg]\n",
    "    X = cumulative.index\n",
    "    for key in keys:\n",
    "        Y = cumulative['f']*RT\n",
    "        theColor = keyColors[key]\n",
    "        theax.plot(X, Y, marker=None, label=key, linewidth=1, color=theColor)\n",
    "        #finalMean = cumulative.loc[1].iloc[0]*RT\n",
    "        finalMean = np.mean(cumulative.loc[1, 'f'])\n",
    "    theax.axhline(finalMean*RT, color='gray', linestyle='-.', linewidth=1)\n",
    "    \n",
    "    return theax"
   ]
  },
  {
   "cell_type": "code",
   "execution_count": null,
   "id": "f5680e55-be50-4f13-8cd4-f982235522b6",
   "metadata": {},
   "outputs": [],
   "source": [
    "fig, dGaxes = makePlots(allSys, systems, prefixes, xlabel=r'$\\rm\\lambda$', ylabel=r'Cumulative $\\rm\\Delta$G($\\rm\\lambda$)'+'\\n (kcal/mol)', doPlot=cumulativePlot)\n",
    "plt.savefig(f\"{root}/Protein_DRAFT_trimmed_S4.pdf\")"
   ]
  },
  {
   "cell_type": "code",
   "execution_count": null,
   "id": "318dcde4-035c-49d6-bebc-52088920376b",
   "metadata": {},
   "outputs": [],
   "source": []
  },
  {
   "cell_type": "code",
   "execution_count": null,
   "id": "c594967a-e7ac-4bc9-87a9-753b43abe7df",
   "metadata": {},
   "outputs": [],
   "source": []
  },
  {
   "cell_type": "code",
   "execution_count": null,
   "id": "0596395a-70d2-49f8-be16-3ac4c9634aff",
   "metadata": {},
   "outputs": [],
   "source": []
  },
  {
   "cell_type": "code",
   "execution_count": null,
   "id": "2897f0f9-9e48-4e7f-bdb3-6a06317bd5a6",
   "metadata": {},
   "outputs": [],
   "source": []
  }
 ],
 "metadata": {
  "kernelspec": {
   "display_name": "Python 3 (ipykernel)",
   "language": "python",
   "name": "python3"
  },
  "language_info": {
   "codemirror_mode": {
    "name": "ipython",
    "version": 3
   },
   "file_extension": ".py",
   "mimetype": "text/x-python",
   "name": "python",
   "nbconvert_exporter": "python",
   "pygments_lexer": "ipython3",
   "version": "3.9.12"
  }
 },
 "nbformat": 4,
 "nbformat_minor": 5
}
