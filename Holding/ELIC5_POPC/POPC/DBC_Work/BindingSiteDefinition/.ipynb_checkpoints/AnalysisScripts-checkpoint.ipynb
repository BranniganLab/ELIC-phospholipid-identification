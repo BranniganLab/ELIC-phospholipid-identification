{
 "cells": [
  {
   "cell_type": "code",
   "execution_count": 1,
   "id": "c3377a5d",
   "metadata": {},
   "outputs": [],
   "source": [
    "import numpy as np\n",
    "import pandas as pd\n",
    "import matplotlib as mpl\n",
    "import matplotlib.pyplot as plt"
   ]
  },
  {
   "cell_type": "code",
   "execution_count": 39,
   "id": "5a32ebe7",
   "metadata": {},
   "outputs": [],
   "source": [
    "# data = pd.read_csv(\"final_colvars.dat\", delim_whitespace=True, header=None, names = ['frame', 'distXYToCenter', 'X', 'Y', 'Z', 'distToBindingSite'])"
   ]
  },
  {
   "cell_type": "code",
   "execution_count": 131,
   "id": "8f028a37",
   "metadata": {},
   "outputs": [],
   "source": [
    "data = pd.read_csv(\"analysisColvars_withAbs_jan27.dat\", delim_whitespace=True)\n",
    "data = data.set_index(\"frame\")"
   ]
  },
  {
   "cell_type": "code",
   "execution_count": 132,
   "id": "73d5c2d6",
   "metadata": {},
   "outputs": [
    {
     "data": {
      "text/html": [
       "<div>\n",
       "<style scoped>\n",
       "    .dataframe tbody tr th:only-of-type {\n",
       "        vertical-align: middle;\n",
       "    }\n",
       "\n",
       "    .dataframe tbody tr th {\n",
       "        vertical-align: top;\n",
       "    }\n",
       "\n",
       "    .dataframe thead th {\n",
       "        text-align: right;\n",
       "    }\n",
       "</style>\n",
       "<table border=\"1\" class=\"dataframe\">\n",
       "  <thead>\n",
       "    <tr style=\"text-align: right;\">\n",
       "      <th></th>\n",
       "      <th>cylLigand</th>\n",
       "      <th>relX</th>\n",
       "      <th>relY</th>\n",
       "      <th>relZ</th>\n",
       "      <th>cyl20</th>\n",
       "      <th>cyl25</th>\n",
       "      <th>cyl30</th>\n",
       "      <th>cyl46</th>\n",
       "      <th>cyl6</th>\n",
       "      <th>distToBindingSiteCOM</th>\n",
       "      <th>absX</th>\n",
       "      <th>absY</th>\n",
       "      <th>absZ</th>\n",
       "    </tr>\n",
       "    <tr>\n",
       "      <th>frame</th>\n",
       "      <th></th>\n",
       "      <th></th>\n",
       "      <th></th>\n",
       "      <th></th>\n",
       "      <th></th>\n",
       "      <th></th>\n",
       "      <th></th>\n",
       "      <th></th>\n",
       "      <th></th>\n",
       "      <th></th>\n",
       "      <th></th>\n",
       "      <th></th>\n",
       "      <th></th>\n",
       "    </tr>\n",
       "  </thead>\n",
       "  <tbody>\n",
       "    <tr>\n",
       "      <th>0</th>\n",
       "      <td>4.440914e-15</td>\n",
       "      <td>5.823656</td>\n",
       "      <td>0.069042</td>\n",
       "      <td>-2.780971</td>\n",
       "      <td>13.641518</td>\n",
       "      <td>8.486910</td>\n",
       "      <td>15.391068</td>\n",
       "      <td>18.664870</td>\n",
       "      <td>10.766700</td>\n",
       "      <td>6.453955</td>\n",
       "      <td>26.744806</td>\n",
       "      <td>-2.313308</td>\n",
       "      <td>6.809279</td>\n",
       "    </tr>\n",
       "    <tr>\n",
       "      <th>1</th>\n",
       "      <td>5.342003e-01</td>\n",
       "      <td>5.482778</td>\n",
       "      <td>-0.342264</td>\n",
       "      <td>-4.014267</td>\n",
       "      <td>13.646135</td>\n",
       "      <td>8.125650</td>\n",
       "      <td>15.496256</td>\n",
       "      <td>19.047401</td>\n",
       "      <td>11.735848</td>\n",
       "      <td>6.803848</td>\n",
       "      <td>26.827324</td>\n",
       "      <td>-2.522496</td>\n",
       "      <td>5.521926</td>\n",
       "    </tr>\n",
       "    <tr>\n",
       "      <th>2</th>\n",
       "      <td>4.123311e-01</td>\n",
       "      <td>5.937054</td>\n",
       "      <td>-0.327390</td>\n",
       "      <td>-3.438307</td>\n",
       "      <td>13.288685</td>\n",
       "      <td>8.026352</td>\n",
       "      <td>15.975004</td>\n",
       "      <td>18.820523</td>\n",
       "      <td>11.508953</td>\n",
       "      <td>6.868606</td>\n",
       "      <td>26.469210</td>\n",
       "      <td>-2.388060</td>\n",
       "      <td>5.691130</td>\n",
       "    </tr>\n",
       "    <tr>\n",
       "      <th>3</th>\n",
       "      <td>7.961562e-01</td>\n",
       "      <td>6.056865</td>\n",
       "      <td>-0.692193</td>\n",
       "      <td>-3.066269</td>\n",
       "      <td>13.719032</td>\n",
       "      <td>8.333569</td>\n",
       "      <td>16.047786</td>\n",
       "      <td>18.745260</td>\n",
       "      <td>11.911956</td>\n",
       "      <td>6.823983</td>\n",
       "      <td>26.292167</td>\n",
       "      <td>-2.921486</td>\n",
       "      <td>6.030759</td>\n",
       "    </tr>\n",
       "    <tr>\n",
       "      <th>4</th>\n",
       "      <td>6.666518e-01</td>\n",
       "      <td>5.789794</td>\n",
       "      <td>-0.596750</td>\n",
       "      <td>-3.547167</td>\n",
       "      <td>13.586772</td>\n",
       "      <td>8.151234</td>\n",
       "      <td>16.228716</td>\n",
       "      <td>18.488225</td>\n",
       "      <td>11.881785</td>\n",
       "      <td>6.816173</td>\n",
       "      <td>25.899154</td>\n",
       "      <td>-2.645866</td>\n",
       "      <td>5.243320</td>\n",
       "    </tr>\n",
       "    <tr>\n",
       "      <th>...</th>\n",
       "      <td>...</td>\n",
       "      <td>...</td>\n",
       "      <td>...</td>\n",
       "      <td>...</td>\n",
       "      <td>...</td>\n",
       "      <td>...</td>\n",
       "      <td>...</td>\n",
       "      <td>...</td>\n",
       "      <td>...</td>\n",
       "      <td>...</td>\n",
       "      <td>...</td>\n",
       "      <td>...</td>\n",
       "      <td>...</td>\n",
       "    </tr>\n",
       "    <tr>\n",
       "      <th>996</th>\n",
       "      <td>2.284190e-01</td>\n",
       "      <td>5.906751</td>\n",
       "      <td>0.281810</td>\n",
       "      <td>-1.615121</td>\n",
       "      <td>19.039096</td>\n",
       "      <td>6.143761</td>\n",
       "      <td>19.027896</td>\n",
       "      <td>18.479222</td>\n",
       "      <td>12.721500</td>\n",
       "      <td>6.130068</td>\n",
       "      <td>29.769579</td>\n",
       "      <td>9.206062</td>\n",
       "      <td>8.811242</td>\n",
       "    </tr>\n",
       "    <tr>\n",
       "      <th>997</th>\n",
       "      <td>4.341145e-01</td>\n",
       "      <td>5.644495</td>\n",
       "      <td>0.464461</td>\n",
       "      <td>-1.783322</td>\n",
       "      <td>18.835414</td>\n",
       "      <td>5.926338</td>\n",
       "      <td>19.081492</td>\n",
       "      <td>17.977271</td>\n",
       "      <td>13.199435</td>\n",
       "      <td>5.937700</td>\n",
       "      <td>29.356961</td>\n",
       "      <td>9.753692</td>\n",
       "      <td>8.924753</td>\n",
       "    </tr>\n",
       "    <tr>\n",
       "      <th>998</th>\n",
       "      <td>3.887701e-01</td>\n",
       "      <td>6.209559</td>\n",
       "      <td>0.021912</td>\n",
       "      <td>-1.438646</td>\n",
       "      <td>18.596261</td>\n",
       "      <td>5.899888</td>\n",
       "      <td>18.761869</td>\n",
       "      <td>18.475027</td>\n",
       "      <td>12.435739</td>\n",
       "      <td>6.374073</td>\n",
       "      <td>29.331350</td>\n",
       "      <td>9.306142</td>\n",
       "      <td>9.423726</td>\n",
       "    </tr>\n",
       "    <tr>\n",
       "      <th>999</th>\n",
       "      <td>4.249410e-01</td>\n",
       "      <td>5.840382</td>\n",
       "      <td>-0.355570</td>\n",
       "      <td>-2.089974</td>\n",
       "      <td>18.223206</td>\n",
       "      <td>5.962405</td>\n",
       "      <td>18.839008</td>\n",
       "      <td>18.170883</td>\n",
       "      <td>12.631733</td>\n",
       "      <td>6.213251</td>\n",
       "      <td>29.663437</td>\n",
       "      <td>8.774427</td>\n",
       "      <td>8.375882</td>\n",
       "    </tr>\n",
       "    <tr>\n",
       "      <th>1000</th>\n",
       "      <td>2.312162e-01</td>\n",
       "      <td>5.663791</td>\n",
       "      <td>-0.098004</td>\n",
       "      <td>-1.665384</td>\n",
       "      <td>18.072198</td>\n",
       "      <td>5.567612</td>\n",
       "      <td>18.916870</td>\n",
       "      <td>18.200405</td>\n",
       "      <td>12.451592</td>\n",
       "      <td>5.904375</td>\n",
       "      <td>29.337724</td>\n",
       "      <td>9.209432</td>\n",
       "      <td>8.825875</td>\n",
       "    </tr>\n",
       "  </tbody>\n",
       "</table>\n",
       "<p>1001 rows × 13 columns</p>\n",
       "</div>"
      ],
      "text/plain": [
       "          cylLigand      relX      relY      relZ      cyl20     cyl25  \\\n",
       "frame                                                                    \n",
       "0      4.440914e-15  5.823656  0.069042 -2.780971  13.641518  8.486910   \n",
       "1      5.342003e-01  5.482778 -0.342264 -4.014267  13.646135  8.125650   \n",
       "2      4.123311e-01  5.937054 -0.327390 -3.438307  13.288685  8.026352   \n",
       "3      7.961562e-01  6.056865 -0.692193 -3.066269  13.719032  8.333569   \n",
       "4      6.666518e-01  5.789794 -0.596750 -3.547167  13.586772  8.151234   \n",
       "...             ...       ...       ...       ...        ...       ...   \n",
       "996    2.284190e-01  5.906751  0.281810 -1.615121  19.039096  6.143761   \n",
       "997    4.341145e-01  5.644495  0.464461 -1.783322  18.835414  5.926338   \n",
       "998    3.887701e-01  6.209559  0.021912 -1.438646  18.596261  5.899888   \n",
       "999    4.249410e-01  5.840382 -0.355570 -2.089974  18.223206  5.962405   \n",
       "1000   2.312162e-01  5.663791 -0.098004 -1.665384  18.072198  5.567612   \n",
       "\n",
       "           cyl30      cyl46       cyl6  distToBindingSiteCOM       absX  \\\n",
       "frame                                                                     \n",
       "0      15.391068  18.664870  10.766700              6.453955  26.744806   \n",
       "1      15.496256  19.047401  11.735848              6.803848  26.827324   \n",
       "2      15.975004  18.820523  11.508953              6.868606  26.469210   \n",
       "3      16.047786  18.745260  11.911956              6.823983  26.292167   \n",
       "4      16.228716  18.488225  11.881785              6.816173  25.899154   \n",
       "...          ...        ...        ...                   ...        ...   \n",
       "996    19.027896  18.479222  12.721500              6.130068  29.769579   \n",
       "997    19.081492  17.977271  13.199435              5.937700  29.356961   \n",
       "998    18.761869  18.475027  12.435739              6.374073  29.331350   \n",
       "999    18.839008  18.170883  12.631733              6.213251  29.663437   \n",
       "1000   18.916870  18.200405  12.451592              5.904375  29.337724   \n",
       "\n",
       "           absY      absZ  \n",
       "frame                      \n",
       "0     -2.313308  6.809279  \n",
       "1     -2.522496  5.521926  \n",
       "2     -2.388060  5.691130  \n",
       "3     -2.921486  6.030759  \n",
       "4     -2.645866  5.243320  \n",
       "...         ...       ...  \n",
       "996    9.206062  8.811242  \n",
       "997    9.753692  8.924753  \n",
       "998    9.306142  9.423726  \n",
       "999    8.774427  8.375882  \n",
       "1000   9.209432  8.825875  \n",
       "\n",
       "[1001 rows x 13 columns]"
      ]
     },
     "execution_count": 132,
     "metadata": {},
     "output_type": "execute_result"
    }
   ],
   "source": [
    "data"
   ]
  },
  {
   "cell_type": "code",
   "execution_count": 133,
   "id": "716e5df4",
   "metadata": {},
   "outputs": [
    {
     "data": {
      "image/png": "[encoded data removed]",
      "text/plain": [
       "<Figure size 432x288 with 1 Axes>"
      ]
     },
     "metadata": {
      "needs_background": "light"
     },
     "output_type": "display_data"
    }
   ],
   "source": [
    "fig, ax = plt.subplots()\n",
    "data.cylLigand.hist(label=\"ligand\")\n",
    "data.cyl20.hist()\n",
    "data.cyl25.hist()\n",
    "data.cyl30.hist()\n",
    "data.cyl46.hist()\n",
    "data.cyl6.hist()\n",
    "plt.legend()\n",
    "plt.title(\"Entire Lipid COM Distance from Ligand Position at T=0\")\n",
    "plt.ylabel(\"count\")\n",
    "plt.xlabel(\"A\")\n",
    "plt.grid(False)\n",
    "plt.savefig(\"Distance_from_t0.png\", dpi=600)"
   ]
  },
  {
   "cell_type": "code",
   "execution_count": 134,
   "id": "bed876a2",
   "metadata": {},
   "outputs": [
    {
     "data": {
      "text/plain": [
       "1.18869272096874"
      ]
     },
     "execution_count": 134,
     "metadata": {},
     "output_type": "execute_result"
    }
   ],
   "source": [
    "radius = np.percentile(data.cylLigand, 95)\n",
    "radius"
   ]
  },
  {
   "cell_type": "code",
   "execution_count": 135,
   "id": "3fd24775",
   "metadata": {},
   "outputs": [
    {
     "data": {
      "image/png": "[encoded data removed]",
      "text/plain": [
       "<Figure size 432x288 with 1 Axes>"
      ]
     },
     "metadata": {
      "needs_background": "light"
     },
     "output_type": "display_data"
    }
   ],
   "source": [
    "data.absZ.hist()\n",
    "plt.title(\"Entire Ligand COM Cartesian Position (Z)\")\n",
    "plt.ylabel(\"count\")\n",
    "plt.xlabel(\"A\")\n",
    "plt.savefig(\"ZPosition.png\", dpi=600)"
   ]
  },
  {
   "cell_type": "code",
   "execution_count": 136,
   "id": "417835f0",
   "metadata": {},
   "outputs": [
    {
     "data": {
      "image/png": "[encoded data removed]",
      "text/plain": [
       "<Figure size 432x288 with 1 Axes>"
      ]
     },
     "metadata": {
      "needs_background": "light"
     },
     "output_type": "display_data"
    }
   ],
   "source": [
    "data.relZ.hist()\n",
    "plt.title(\"Entire Ligand COM Position (Z)\\nRelative to Binding Site\")\n",
    "plt.ylabel(\"count\")\n",
    "plt.xlabel(\"A\")\n",
    "plt.savefig(\"relZPosition.png\", dpi=600)"
   ]
  },
  {
   "cell_type": "code",
   "execution_count": 137,
   "id": "07aeef7f",
   "metadata": {},
   "outputs": [
    {
     "data": {
      "image/png": "[encoded data removed]",
      "text/plain": [
       "<Figure size 432x288 with 1 Axes>"
      ]
     },
     "metadata": {
      "needs_background": "light"
     },
     "output_type": "display_data"
    }
   ],
   "source": [
    "data.relY.hist()\n",
    "plt.title(\"Entire Ligand COM Position (Y)\")\n",
    "plt.ylabel(\"count\")\n",
    "plt.xlabel(\"A\")\n",
    "plt.savefig(\"YPosition.png\", dpi=600)"
   ]
  },
  {
   "cell_type": "code",
   "execution_count": 149,
   "id": "81ddb580",
   "metadata": {},
   "outputs": [
    {
     "data": {
      "image/png": "[encoded data removed]",
      "text/plain": [
       "<Figure size 432x288 with 1 Axes>"
      ]
     },
     "metadata": {
      "needs_background": "light"
     },
     "output_type": "display_data"
    }
   ],
   "source": [
    "fig, ax = plt.subplots()\n",
    "center = (data.relX[0], data.relY[0])\n",
    "#center = (5.771076257226381, -0.38855978495432647)\n",
    "area = plt.Circle(center, radius, color='orange')\n",
    "\n",
    "#ax.add_patch(scatter)\n",
    "ax.add_patch(area)\n",
    "scatter = plt.scatter(data.relX, data.relY)\n",
    "plt.scatter(center[0], center[1], color='r', label=\"t=0\")\n",
    "plt.title(f\"Entire Lipid COM Position (XY)\\nRadius={np.round(radius,4)}Å\")\n",
    "plt.ylabel(\"count\")\n",
    "plt.xlabel(\"A\")\n",
    "plt.axis('equal')\n",
    "plt.legend()\n",
    "\n",
    "#plt.show()\n",
    "plt.savefig(\"XYPosition.png\", dpi=600)"
   ]
  },
  {
   "cell_type": "code",
   "execution_count": 161,
   "id": "c210cf98",
   "metadata": {},
   "outputs": [],
   "source": [
    "def getDistance(center, point):\n",
    "    return np.sqrt(np.sum(np.subtract(point, center)**2))"
   ]
  },
  {
   "cell_type": "code",
   "execution_count": 162,
   "id": "b498d5f7",
   "metadata": {},
   "outputs": [
    {
     "data": {
      "text/plain": [
       "5.784142103476177"
      ]
     },
     "execution_count": 162,
     "metadata": {},
     "output_type": "execute_result"
    }
   ],
   "source": [
    "distXY = data.relX\n",
    "for p in zip(data.relX, data.relY)\n",
    "meanX = np.mean(data.relX)\n",
    "meanY = np.mean(data.relY)\n",
    "center = (meanX, meanY)\n",
    "point = (0, 0)\n",
    "getDistance(point, center)"
   ]
  },
  {
   "cell_type": "code",
   "execution_count": 150,
   "id": "c07115e9",
   "metadata": {},
   "outputs": [
    {
     "data": {
      "image/png": "[encoded data removed]",
      "text/plain": [
       "<Figure size 432x288 with 1 Axes>"
      ]
     },
     "metadata": {
      "needs_background": "light"
     },
     "output_type": "display_data"
    }
   ],
   "source": [
    "fig, ax = plt.subplots()\n",
    "center = (data.relX[0], data.relY[0])\n",
    "meanX = np.mean(data.relX)\n",
    "meanY = np.mean(data.relY)\n",
    "center = (meanX, meanY)\n",
    "area = plt.Circle(center, radius, color='orange')\n",
    "\n",
    "#ax.add_patch(scatter)\n",
    "ax.add_patch(area)\n",
    "scatter = plt.scatter(data.relX, data.relY)\n",
    "plt.scatter(center[0], center[1], color='r', label=\"Geometric Center\")\n",
    "plt.title(f\"Entire Lipid COM Position (XY)\\nRadius={np.round(radius,4)}Å\")\n",
    "plt.ylabel(\"count\")\n",
    "plt.xlabel(\"A\")\n",
    "plt.axis('equal')\n",
    "plt.legend()\n",
    "\n",
    "#plt.show()\n",
    "plt.savefig(\"XYPosition.png\", dpi=600)"
   ]
  },
  {
   "cell_type": "code",
   "execution_count": 146,
   "id": "b11e63e2",
   "metadata": {},
   "outputs": [
    {
     "name": "stdout",
     "output_type": "stream",
     "text": [
      "(5.771076257226381, -0.38855978495432647)\n"
     ]
    }
   ],
   "source": [
    "\n",
    "print(f\"({meanX}, {meanY})\")"
   ]
  },
  {
   "cell_type": "code",
   "execution_count": 140,
   "id": "d4fd7592",
   "metadata": {},
   "outputs": [
    {
     "data": {
      "text/plain": [
       "(23.56148932963806, 32.37584064570374, -5.732587930159542, 10.973293654228103)"
      ]
     },
     "execution_count": 140,
     "metadata": {},
     "output_type": "execute_result"
    },
    {
     "data": {
      "image/png": "[encoded data removed]",
      "text/plain": [
       "<Figure size 432x288 with 1 Axes>"
      ]
     },
     "metadata": {
      "needs_background": "light"
     },
     "output_type": "display_data"
    }
   ],
   "source": [
    "fig, ax = plt.subplots()\n",
    "\n",
    "scatter = plt.scatter(data.absX, data.absY)\n",
    "plt.scatter(data.absX[0], data.absY[0], color='r')\n",
    "plt.title(f\"Entire Lipid COM Position (XY)\\nRadius={np.round(radius,4)}Å\")\n",
    "plt.ylabel(\"count\")\n",
    "plt.xlabel(\"A\")\n",
    "plt.axis('equal')"
   ]
  },
  {
   "cell_type": "code",
   "execution_count": null,
   "id": "d73c0099",
   "metadata": {},
   "outputs": [],
   "source": []
  }
 ],
 "metadata": {
  "kernelspec": {
   "display_name": "Python 3 (ipykernel)",
   "language": "python",
   "name": "python3"
  },
  "language_info": {
   "codemirror_mode": {
    "name": "ipython",
    "version": 3
   },
   "file_extension": ".py",
   "mimetype": "text/x-python",
   "name": "python",
   "nbconvert_exporter": "python",
   "pygments_lexer": "ipython3",
   "version": "3.9.6"
  }
 },
 "nbformat": 4,
 "nbformat_minor": 5
}
