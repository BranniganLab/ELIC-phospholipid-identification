{
 "cells": [
  {
   "cell_type": "code",
   "execution_count": 16,
   "id": "35e2e8c3-9dba-4d5d-96f0-cfd31763143b",
   "metadata": {},
   "outputs": [
    {
     "name": "stdout",
     "output_type": "stream",
     "text": [
      "Probably already in the right place.\n",
      "/u2/home_u2/ems363/Documents/ELIC/common/Python_Version\n"
     ]
    }
   ],
   "source": [
    "import os\n",
    "try:\n",
    "    os.chdir('Python_Version/')\n",
    "except:\n",
    "    print(\"Probably already in the right place.\")\n",
    "    \n",
    "print(os.getcwd())\n",
    "import filecmp\n",
    "\n",
    "from templating import *"
   ]
  },
  {
   "cell_type": "code",
   "execution_count": 17,
   "id": "910dd5a7-d27a-4c4e-abb2-778e2ffafd31",
   "metadata": {},
   "outputs": [
    {
     "name": "stdout",
     "output_type": "stream",
     "text": [
      "test_template.txt\n",
      "template.out\n"
     ]
    }
   ],
   "source": [
    "## Unit test for template functions\n",
    "with open('test_template.txt', 'w') as f:\n",
    "    f.write('''$TEMPLATE_affix\n",
    "lorem ipsum $TEMPLATE_resid dolor est\n",
    "adathareimunare$TEMPLATE_affix ameno\n",
    "\n",
    "TEMPLATE_affix without a dollar sign''')\n",
    "templateAll(\"theAffix\", 420, [\"test_template.txt\"], [\"template.out\"])\n",
    "assert filecmp.cmp('template.out', 'template_standard.out')"
   ]
  },
  {
   "cell_type": "code",
   "execution_count": 20,
   "id": "e9b5b2d3-d5ac-49c4-ac91-373a1262e09d",
   "metadata": {},
   "outputs": [],
   "source": [
    "# Unit test for makeABFE\n",
    "makeABFEtcl('foo/bar', 42, 'POPC', 'POPC_42_ABFE')\n",
    "assert filecmp.cmp('POPC_42_ABFE.tcl', 'POPC_42_ABFE_standard.tcl')"
   ]
  },
  {
   "cell_type": "code",
   "execution_count": 30,
   "id": "e54f1cf2-e66e-4973-9ca0-c0a8580151da",
   "metadata": {},
   "outputs": [
    {
     "name": "stdout",
     "output_type": "stream",
     "text": [
      "Don't forget to make sure the ALL the right atoms are being (de)coupled!\n"
     ]
    }
   ],
   "source": [
    "prefix='POPC_42_RBFE'\n",
    "makeRBFEtcl('foo/bar', 42, 'POCE', 'POPC120', prefix, 'MEMB')\n",
    "assert filecmp.cmp(f'{prefix}.tcl', 'POPC_42_RBFE_standard.tcl')"
   ]
  },
  {
   "cell_type": "code",
   "execution_count": 41,
   "id": "00a2ccf1-825c-4b3b-b510-36260325022b",
   "metadata": {},
   "outputs": [],
   "source": [
    "import tkinter\n",
    "root = tkinter.Tk()"
   ]
  },
  {
   "cell_type": "code",
   "execution_count": 43,
   "id": "a7eaf0eb-676c-4153-b730-2afaed034b7c",
   "metadata": {},
   "outputs": [
    {
     "data": {
      "text/plain": [
       "''"
      ]
     },
     "execution_count": 43,
     "metadata": {},
     "output_type": "execute_result"
    }
   ],
   "source": [
    "root.tk.eval('set dir /home/ems363/lib/vmda55/plugins/LINUXAMD64/tcl/psfgen2.0/')\n",
    "root.tk.eval('source /home/ems363/lib/vmda55/plugins/LINUXAMD64/tcl/psfgen2.0/pkgIndex.tcl')"
   ]
  },
  {
   "cell_type": "code",
   "execution_count": 44,
   "id": "ce02ee0b-de37-4f8b-a9eb-4bfcb6ee14f2",
   "metadata": {},
   "outputs": [
    {
     "ename": "TclError",
     "evalue": "expected version number but got \"\u0010�#��U\"",
     "output_type": "error",
     "traceback": [
      "\u001b[0;31m---------------------------------------------------------------------------\u001b[0m",
      "\u001b[0;31mTclError\u001b[0m                                  Traceback (most recent call last)",
      "\u001b[0;32m/tmp/ipykernel_3773383/3463961318.py\u001b[0m in \u001b[0;36m<module>\u001b[0;34m\u001b[0m\n\u001b[0;32m----> 1\u001b[0;31m \u001b[0mroot\u001b[0m\u001b[0;34m.\u001b[0m\u001b[0mtk\u001b[0m\u001b[0;34m.\u001b[0m\u001b[0meval\u001b[0m\u001b[0;34m(\u001b[0m\u001b[0;34m'package require psfgen'\u001b[0m\u001b[0;34m)\u001b[0m\u001b[0;34m\u001b[0m\u001b[0;34m\u001b[0m\u001b[0m\n\u001b[0m",
      "\u001b[0;31mTclError\u001b[0m: expected version number but got \"\u0010�#��U\""
     ]
    }
   ],
   "source": [
    "root.tk.eval('package require psfgen')"
   ]
  },
  {
   "cell_type": "code",
   "execution_count": null,
   "id": "484fabba-f42f-4154-9b52-2cee690016b2",
   "metadata": {},
   "outputs": [],
   "source": []
  }
 ],
 "metadata": {
  "kernelspec": {
   "display_name": "Python 3 (ipykernel)",
   "language": "python",
   "name": "python3"
  },
  "language_info": {
   "codemirror_mode": {
    "name": "ipython",
    "version": 3
   },
   "file_extension": ".py",
   "mimetype": "text/x-python",
   "name": "python",
   "nbconvert_exporter": "python",
   "pygments_lexer": "ipython3",
   "version": "3.9.12"
  }
 },
 "nbformat": 4,
 "nbformat_minor": 5
}
