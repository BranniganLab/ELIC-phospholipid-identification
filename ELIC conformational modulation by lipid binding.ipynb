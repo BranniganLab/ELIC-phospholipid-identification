{
 "cells": [
  {
   "cell_type": "code",
   "execution_count": null,
   "id": "f9b46e3a",
   "metadata": {},
   "outputs": [],
   "source": [
    "%matplotlib widget\n",
    "import numpy as np\n",
    "from scipy.interpolate import griddata\n",
    "import matplotlib.pyplot as plt\n",
    "from scipy import constants\n",
    "import pandas as pd"
   ]
  },
  {
   "cell_type": "code",
   "execution_count": null,
   "id": "781febc8-1923-42a9-b7eb-b710c2082fdb",
   "metadata": {
    "tags": []
   },
   "outputs": [],
   "source": [
    "def mktable(PCtoPG, PGtoPE, PEtoPC):\n",
    "    data = pd.DataFrame(0, index=['PC', 'PG', 'PE'], columns=['PC', 'PG', 'PE'])\n",
    "    data.loc['PC','PG'] = PCtoPG\n",
    "    data.loc['PE','PC'] = PEtoPC\n",
    "    data.loc['PG','PE'] = PGtoPE\n",
    "\n",
    "    data.loc['PG','PC'] = -data.loc['PC','PG']\n",
    "    data.loc['PC','PE'] = -data.loc['PE','PC']\n",
    "    data.loc['PE','PG'] = -data.loc['PG','PE']\n",
    "    \n",
    "    return data"
   ]
  },
  {
   "cell_type": "code",
   "execution_count": null,
   "id": "36a863e7-6417-46aa-a985-216dc6ec90c7",
   "metadata": {
    "jupyter": {
     "source_hidden": true
    },
    "tags": []
   },
   "outputs": [],
   "source": [
    "def logSpace(xmin=-9, xmax=0, N=1000):\n",
    "    grid_x = np.logspace(xmin, xmax, N)\n",
    "\n",
    "    xPG, xPE = np.meshgrid(grid_x, grid_x) #titration grid\n",
    "\n",
    "    xPC =  np.full((N, N), 1.0) - (xPG + xPE) #PC+PG+PE=1\n",
    "    mask = xPC<0\n",
    "    xPG=np.where(~mask, xPG, np.nan)\n",
    "    xPE=np.where(~mask, xPE, np.nan)\n",
    "    \n",
    "    return xPC, xPG, xPE"
   ]
  },
  {
   "cell_type": "code",
   "execution_count": null,
   "id": "065e6e1c-c801-4587-880d-e784ed9a09d6",
   "metadata": {
    "jupyter": {
     "source_hidden": true
    },
    "tags": []
   },
   "outputs": [],
   "source": [
    "def linSpace(xmin=0, xmax=1, N=1000):\n",
    "    grid_x = np.linspace(xmin, xmax, N)\n",
    "\n",
    "    xPG, xPE = np.meshgrid(grid_x, grid_x) #titration grid\n",
    "\n",
    "    xPC =  np.full((N, N), 1.0) - (xPG + xPE) #PC+PG+PE=1\n",
    "    mask = xPC<0\n",
    "    xPG=np.where(~mask, xPG, np.nan)\n",
    "    xPE=np.where(~mask, xPE, np.nan)\n",
    "    \n",
    "    return xPC, xPG, xPE"
   ]
  },
  {
   "cell_type": "code",
   "execution_count": null,
   "id": "3f9cadc7-ea0a-4449-b561-5863ecdb2c45",
   "metadata": {
    "jupyter": {
     "source_hidden": true
    },
    "tags": []
   },
   "outputs": [],
   "source": [
    "def genLogProb(E5, WT, RT):\n",
    "    #Boltzmann weights\n",
    "    KCG5  = np.exp(-E5.loc['PC','PG'] / RT)\n",
    "    KCGWT = np.exp(-WT.loc['PC','PG'] / RT)\n",
    "    KCE5  = np.exp(-E5.loc['PC','PE']/ RT)\n",
    "    KCEWT = np.exp(-WT.loc['PC','PE'] / RT)\n",
    "\n",
    "    data = (xPC + KCG5 * xPG + KCE5 * xPE) / (xPC + KCGWT * xPG + KCEWT * xPE)\n",
    "    data = np.log(data)\n",
    "    #data=np.where(mask, data, np.nan)\n",
    "    \n",
    "    return data"
   ]
  },
  {
   "cell_type": "code",
   "execution_count": null,
   "id": "3d605ffe",
   "metadata": {},
   "outputs": [],
   "source": [
    "##Old numbers\n",
    "#DG_PG_5  = -7\n",
    "#DG_PG_WT = -11\n",
    "#DG_PE_5  = -2\n",
    "#DG_PE_WT = -9\n",
    "\n",
    "\n",
    "#Constants\n",
    "temperature = 303.15 #Kelvin\n",
    "RT = temperature*constants.R/(1000*constants.calorie) #kcal/mol"
   ]
  },
  {
   "cell_type": "code",
   "execution_count": null,
   "id": "e03cc9a2-466e-49c7-9200-545a1cc531fc",
   "metadata": {},
   "outputs": [],
   "source": [
    "#All data:\n",
    "#Using a PG reference\n",
    "WT_bin = mktable(PCtoPG=-7, PGtoPE=2, PEtoPC= 7-2)\n",
    "E5_bin = mktable(PCtoPG=-4, PGtoPE=6, PEtoPC= 4-6)\n",
    "WT_ter = mktable(PCtoPG=-6, PGtoPE=2, PEtoPC= 6-2)\n",
    "E5_ter = mktable(PCtoPG=-3, PGtoPE=6, PEtoPC= 3-6)"
   ]
  },
  {
   "cell_type": "code",
   "execution_count": null,
   "id": "e95a560a-d8ee-49f5-99fa-2c8fe6e9018f",
   "metadata": {},
   "outputs": [],
   "source": [
    "xPC, xPG, xPE = logSpace(-6, 0, 1000) #e^-9 to e^0, 1000 steps\n",
    "#xPC, xPG, xPE = linSpace(0, 1, 1000) #e^-9 to e^0, 1000 steps\n",
    "data = genLogProb(E5_ter, WT_ter, RT)"
   ]
  },
  {
   "cell_type": "code",
   "execution_count": null,
   "id": "1d4c43d4-e93f-43c5-abec-0d3bdde52394",
   "metadata": {
    "tags": []
   },
   "outputs": [],
   "source": [
    "def makeContourf(xPG, xPE, data, xmin=1e-9, xmax=1, log=True):\n",
    "    %matplotlib widget\n",
    "    \n",
    "    fig, ax = plt.subplots() \n",
    "    cf = ax.contourf(xPG, xPE, data, levels=100)\n",
    "    ax.scatter(0.25, 0.25, s=25, marker='p', c='k', linewidth=3)\n",
    "    ax.scatter(0.25, xmin*1.2, s=25, marker='*', c='k', linewidth=3)\n",
    "    ax.scatter(1/60, xmin*1.2, s=25, marker='P', c='k', linewidth=3)\n",
    "    ax.scatter(xmin*1.2, 1/60, s=25, marker='X', c='k', linewidth=3)\n",
    "    \n",
    "    ax.scatter(0.25, 0.25, s=15, marker='p', label='2:1:1 PC:PG:PE')\n",
    "    ax.scatter(0.25, xmin*1.2, s=15, marker='*', label='3:1 PC:PG')\n",
    "    ax.scatter(1/60, xmin*1.2, s=15, marker='P', label='60:1 PC:PG')\n",
    "    ax.scatter(xmin*1.2, 1/60, s=15, marker='X', label='60:1 PC:PE')\n",
    "    \n",
    "    ax.set_xlabel(\"PG content\")\n",
    "    ax.set_ylabel(\"PE content\")\n",
    "    #ax.title.set_text(\"Relative log-probability of ELIC5 conformation\")\n",
    "    ax.legend(loc='center right')\n",
    "    \n",
    "    if log:\n",
    "        ax.set_xscale(\"log\")\n",
    "        ax.set_yscale(\"log\") \n",
    "    \n",
    "    ax.set_xlim([xmin,xmax])\n",
    "    ax.set_ylim([xmin,xmax])\n",
    "\n",
    "    ax.set_aspect('equal')\n",
    "    fig.colorbar(cf, ax=ax)\n",
    "    \n",
    "    return fig, ax"
   ]
  },
  {
   "cell_type": "code",
   "execution_count": null,
   "id": "070267b7",
   "metadata": {},
   "outputs": [],
   "source": [
    "#fig, ax = makeContourf(xPG, xPE, data)\n",
    "fig, ax = makeContourf(xPG, xPE, data, xmin=1e-6, log=True)\n",
    "plt.savefig('logloglog_pE5.png', dpi=600)"
   ]
  },
  {
   "cell_type": "code",
   "execution_count": null,
   "id": "e7548721-3237-4a17-9972-bda113cc6913",
   "metadata": {},
   "outputs": [],
   "source": [
    "%matplotlib widget\n",
    "fig = plt.figure()\n",
    "ax = plt.axes(projection='3d')\n",
    "ax.plot_surface(xPG, xPE, data)\n",
    "ax.set_xlabel('PG')\n",
    "ax.set_ylabel('PE')\n",
    "ax.set_zlabel('log(E5) conformation')\n",
    "\n",
    "ax.set_title('3D contour')\n",
    "plt.show()\n"
   ]
  },
  {
   "cell_type": "markdown",
   "id": "c381d96f-a8af-4704-a530-7bbd1ef7b0a4",
   "metadata": {},
   "source": [
    "# Binding in a Ternary Mixture (implementation of derivation posted Sunday, April 3, 2022)"
   ]
  },
  {
   "cell_type": "code",
   "execution_count": null,
   "id": "1d7ef2f9-7a23-43da-b785-514c1291e84c",
   "metadata": {},
   "outputs": [],
   "source": [
    "def getRelProb(alpha, beta, xa, xb, stateTable, RT):\n",
    "    prob = (xa/xb) * np.exp(-stateTable.loc[beta, alpha]/RT)\n",
    "    return prob"
   ]
  },
  {
   "cell_type": "code",
   "execution_count": null,
   "id": "776c3a12-66c1-422f-a2dd-ce1c31b8b5b1",
   "metadata": {},
   "outputs": [],
   "source": [
    "def getpAa(alpha, beta, gamma, xa, xb, xg, stateTable, RT):\n",
    "    pA0a = 0\n",
    "    pAba = getRelProb(beta, alpha, xb, xa, stateTable, RT)\n",
    "    pAga = getRelProb(gamma, alpha, xg, xa, stateTable, RT)\n",
    "\n",
    "    pAa = 1/(1+pAba+pAga+pA0a)\n",
    "    \n",
    "    return pAa"
   ]
  },
  {
   "cell_type": "code",
   "execution_count": null,
   "id": "791f6e0f-8d79-4ad0-9a8c-2c8ae533a0f0",
   "metadata": {},
   "outputs": [],
   "source": [
    "#This is the same as pAa when pA0a is 0\n",
    "def getfAa(alpha, beta, gamma, xa, xb, xg, stateTable, RT):\n",
    "    pAa = getpAa(alpha, beta, gamma, xa, xb, xg, stateTable, RT)\n",
    "    pAb = getpAa(beta, alpha, gamma, xb, xa, xg, stateTable, RT)\n",
    "    pAg = getpAa(gamma, beta, alpha, xg, xb, xa, stateTable, RT)\n",
    "    \n",
    "    fAa = pAa/(pAa+pAb+pAg)\n",
    "    \n",
    "    return fAa"
   ]
  },
  {
   "cell_type": "code",
   "execution_count": null,
   "id": "8dea93eb-898f-4557-90fa-07a88fcfbc0a",
   "metadata": {},
   "outputs": [],
   "source": [
    "#xPG = np.linspace(0, 1, 1000)\n",
    "xPG = np.logspace(-6, 0, 100)"
   ]
  },
  {
   "cell_type": "code",
   "execution_count": null,
   "id": "26bffdf7-dabd-4805-bc3e-56a24e15b33f",
   "metadata": {},
   "outputs": [],
   "source": [
    "xPX = 1-xPG\n",
    "xPC = xPX*2/3\n",
    "xPE = xPX/3\n",
    "%matplotlib widget\n",
    "\n",
    "#Binary mixture numbers currently make no appreciable difference\n",
    "#fPC = getfAa('PC', 'PG', 'PE', xPC,xPG,xPE, WT_bin, RT)\n",
    "#fPG = getfAa('PG', 'PC', 'PE', xPG,xPC,xPE, WT_bin, RT)\n",
    "#fPE = getfAa('PE', 'PG', 'PC', xPE,xPG,xPC, WT_bin, RT)\n",
    "\n",
    "#plt.plot(xPG,fPC, label='fPC_bin')\n",
    "#plt.plot(xPG,fPG, label='fPG_bin')\n",
    "#lt.plot(xPG,fPE, label='fPE_bin')\n",
    "\n",
    "fPC = getfAa('PC', 'PG', 'PE', xPC,xPG,xPE, WT_ter, RT)\n",
    "fPG = getfAa('PG', 'PC', 'PE', xPG,xPC,xPE, WT_ter, RT)\n",
    "fPE = getfAa('PE', 'PG', 'PC', xPE,xPG,xPC, WT_ter, RT)\n",
    "\n",
    "plt.plot(xPG,fPC, label='fPC_ter')\n",
    "plt.plot(xPG,fPG, label='fPG_ter')\n",
    "plt.plot(xPG,fPE, label='fPE_ter')\n",
    "\n",
    "plt.xlabel('PG mol fraction')\n",
    "plt.ylabel('Fraction of Sites Occupied')\n",
    "plt.title('Wild Type PG Titration')\n",
    "\n",
    "plt.legend()\n",
    "plt.xscale('log')\n",
    "\n",
    "plt.savefig('WT_PG_Titration_Ternary.png', dpi=600)"
   ]
  },
  {
   "cell_type": "code",
   "execution_count": null,
   "id": "6e4c5112-3ca1-4c83-91cb-9bb1cbb450d1",
   "metadata": {
    "tags": []
   },
   "outputs": [],
   "source": [
    "xPX = 1-xPG\n",
    "xPC = xPX*2/3\n",
    "xPE = xPX/3\n",
    "\n",
    "fPC = getfAa('PC', 'PG', 'PE', xPC,xPG,xPE, E5_ter, RT)\n",
    "fPG = getfAa('PG', 'PC', 'PE', xPG,xPC,xPE, E5_ter, RT)\n",
    "fPE = getfAa('PE', 'PG', 'PC', xPE,xPG,xPC, E5_ter, RT)\n",
    "\n",
    "%matplotlib widget\n",
    "plt.plot(xPG,fPC, label='fPC')\n",
    "plt.plot(xPG,fPG, label='fPG')\n",
    "plt.plot(xPG,fPE, label='fPE')\n",
    "\n",
    "plt.legend()\n",
    "plt.xscale('log')\n",
    "plt.xlabel('PG mol fraction')\n",
    "plt.ylabel('Fraction of Sites Occupied')\n",
    "plt.title('ELIC5 PG Titration')\n",
    "\n",
    "plt.savefig('ELIC5_PG_Titration_Ternary.png', dpi=600)"
   ]
  },
  {
   "cell_type": "code",
   "execution_count": null,
   "id": "b2621f8e-6dda-47d2-a09c-d4b2ae01bdc3",
   "metadata": {},
   "outputs": [],
   "source": [
    "xPX = 1-xPG\n",
    "xPC = xPX*2/3\n",
    "xPE = xPX/3\n",
    "#fPC = []\n",
    "#for x in np.arange(len(xPG)):\n",
    "    #fPC.append(getpAa('PC', 'PG', 'PE', xPC[x],xPG[x],xPE[x], WT, RT))\n",
    "#Or equivalently:\n",
    "\n",
    "WTfPG_ter = getfAa('PG', 'PC', 'PE', xPG,xPC,xPE, WT_ter, RT)\n",
    "E5fPG_ter = getfAa('PG', 'PC', 'PE', xPG,xPC,xPE, E5_ter, RT)\n",
    "\n",
    "\n",
    "xPC = 1-xPG\n",
    "WTfPG_bin = getfAa('PG', 'PC', 'PE', xPG,xPC,xPE, WT_bin, RT)\n",
    "E5fPG_bin = getfAa('PG', 'PC', 'PE', xPG,xPC,xPE, E5_bin, RT)\n",
    "\n",
    "%matplotlib widget\n",
    "plt.plot(xPG,E5fPG_bin, label='E5 binary', linestyle='-', color='black')\n",
    "plt.plot(xPG,WTfPG_bin, label='WT binary', linestyle='-', color='red')\n",
    "plt.plot(xPG,E5fPG_ter, label='E5 ternary', linestyle='--', color='black')\n",
    "plt.plot(xPG,WTfPG_ter, label='WT ternary', linestyle='--', color='red')\n",
    "\n",
    "\n",
    "plt.legend()\n",
    "plt.xscale('log')\n",
    "\n",
    "plt.xlabel('PG mol fraction')\n",
    "plt.ylabel('Fraction of Sites Occupied by PG')\n",
    "plt.title('PG Titration Comparison')\n",
    "#plt.xlim([1e-9, 1])\n",
    "plt.savefig('PG_titration.png', dpi=600)"
   ]
  },
  {
   "cell_type": "code",
   "execution_count": null,
   "id": "1f020519-f44d-48dd-a6eb-0d3643de62c7",
   "metadata": {},
   "outputs": [],
   "source": [
    "#Generate numbers for barchart\n",
    "\n",
    "xPC = 0.5\n",
    "xPG = 0.25\n",
    "xPE = 0.25\n",
    "\n",
    "cols = ['fPC', 'fPG', 'fPE']\n",
    "rows = pd.MultiIndex.from_tuples([('WT','2:1:1'), ('WT', '128:1'), ('E5', '2:1:1'), ('E5', '128:1')], names=['sequence', 'membrane'])\n",
    "data = pd.DataFrame(columns=cols, index=rows)\n",
    "\n",
    "data.loc[('WT','2:1:1'),'fPC'] = getpAa('PC', 'PG', 'PE', xPC,xPG,xPE, WT_ter, RT)\n",
    "data.loc[('WT','2:1:1'),'fPG'] = getpAa('PG', 'PC', 'PE', xPG,xPC,xPE, WT_ter, RT)\n",
    "data.loc[('WT','2:1:1'),'fPE'] = getpAa('PE', 'PG', 'PC', xPE,xPG,xPC, WT_ter, RT)\n",
    "\n",
    "data.loc[('E5','2:1:1'),'fPC'] = getpAa('PC', 'PG', 'PE', xPC,xPG,xPE, E5_ter, RT)\n",
    "data.loc[('E5','2:1:1'),'fPG'] = getpAa('PG', 'PC', 'PE', xPG,xPC,xPE, E5_ter, RT)\n",
    "data.loc[('E5','2:1:1'),'fPE'] = getpAa('PE', 'PG', 'PC', xPE,xPG,xPC, E5_ter, RT)\n",
    "\n",
    "xPC = 128/129\n",
    "xPG = 1/129\n",
    "xPE = 0\n",
    "data.loc[('WT','128:1'),'fPC'] = getpAa('PC', 'PG', 'PE', xPC,xPG,xPE, WT_bin, RT)\n",
    "data.loc[('WT','128:1'),'fPG'] = getpAa('PG', 'PC', 'PE', xPG,xPC,xPE, WT_bin, RT)\n",
    "\n",
    "data.loc[('E5','128:1'),'fPC'] = getpAa('PC', 'PG', 'PE', xPC,xPG,xPE, E5_bin, RT)\n",
    "data.loc[('E5','128:1'),'fPG'] = getpAa('PG', 'PC', 'PE', xPG,xPC,xPE, E5_bin, RT)\n"
   ]
  },
  {
   "cell_type": "code",
   "execution_count": null,
   "id": "02beedb1-1316-4698-82a3-ce345f3f462e",
   "metadata": {},
   "outputs": [],
   "source": [
    "%matplotlib widget\n",
    "\n",
    "fig, (ax211, ax1281) = plt.subplots(1,2, sharey=True)\n",
    "data.loc[(slice(None), '2:1:1'),:].plot.bar(ax=ax211, stacked=True, color={'fPC':'black', 'fPG':'grey', 'fPE':'red'})\n",
    "ax211.set_xticklabels(['WT', 'E5'])\n",
    "ax211.set_xlabel('2:1:1')\n",
    "\n",
    "data.loc[(slice(None), '128:1'),:].plot.bar(ax=ax1281, stacked=True, color={'fPC':'black', 'fPG':'grey', 'fPE':'red'})\n",
    "ax1281.set_xticklabels(['WT', 'E5'])\n",
    "ax1281.set_xlabel('128:1') \n",
    "ax1281.get_legend().remove()\n",
    "\n",
    "fig.suptitle('Absolute Occupancy Fraction')\n",
    "ax211.set_ylabel('Occupancy Fraction')\n",
    "#ax211.semilogy()\n",
    "plt.savefig('OccupancyFraction.png', dpi=600)"
   ]
  },
  {
   "cell_type": "code",
   "execution_count": null,
   "id": "86a40465-5e46-4d9a-af51-ca5b1b972633",
   "metadata": {},
   "outputs": [],
   "source": []
  }
 ],
 "metadata": {
  "kernelspec": {
   "display_name": "Python 3 (ipykernel)",
   "language": "python",
   "name": "python3"
  },
  "language_info": {
   "codemirror_mode": {
    "name": "ipython",
    "version": 3
   },
   "file_extension": ".py",
   "mimetype": "text/x-python",
   "name": "python",
   "nbconvert_exporter": "python",
   "pygments_lexer": "ipython3",
   "version": "3.9.5"
  }
 },
 "nbformat": 4,
 "nbformat_minor": 5
}
